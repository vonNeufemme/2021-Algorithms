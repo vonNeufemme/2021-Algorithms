{
  "nbformat": 4,
  "nbformat_minor": 0,
  "metadata": {
    "colab": {
      "name": "ALGO 04 Search and Sort 3 Merge Sort",
      "provenance": [],
      "collapsed_sections": []
    },
    "kernelspec": {
      "name": "python3",
      "display_name": "Python 3"
    },
    "language_info": {
      "name": "python"
    }
  },
  "cells": [
    {
      "cell_type": "markdown",
      "metadata": {
        "id": "-iQOFLLdv7Nx"
      },
      "source": [
        "# Searching & Sorting\n",
        "- Not frequent in ML however:\n",
        "  - Examplary to demo: \n",
        "    - Time complexity\n",
        "    - Space complexity\n",
        "    - Tyipcal time/space tradeoff\n",
        "  - Helpful for ML pipelines:\n",
        "    - Data Capture\n",
        "    - Preprocessing\n",
        "    - Training\n",
        "    - Deployment"
      ]
    },
    {
      "cell_type": "markdown",
      "metadata": {
        "id": "Fvqg1lo_9PU5"
      },
      "source": [
        "# 4.3 Merge Sort\n",
        "\n",
        "* General idea is to \"divide and conquer\"; specifically:\n",
        "    1. Halve the array into smaller arrays\n",
        "    2. Sort the smaller arrays\n",
        "    3. Merge them back into full array\n",
        "* The above steps are carried out **recursively** so ultimately sort arrays of max length 2, then merge back up to full length."
      ]
    },
    {
      "cell_type": "markdown",
      "metadata": {
        "id": "CuZF1S_AqIRf"
      },
      "source": [
        "## `pop()`\n",
        "- Makes use of the simple but important property of `pop()` function. \n",
        "  - `pop()` literally pops the element from the place, so once popped, it's gone from the list."
      ]
    },
    {
      "cell_type": "markdown",
      "metadata": {
        "id": "ZLFOO4eze-D1"
      },
      "source": [
        "## Merge Sort Algorithm\n",
        "- Playing with index numbers &\n",
        "- `pop()`"
      ]
    },
    {
      "cell_type": "code",
      "metadata": {
        "colab": {
          "base_uri": "https://localhost:8080/",
          "height": 17
        },
        "id": "9JbDrrBl5lJT",
        "outputId": "b9ed96da-cc5e-491b-f528-7f272f45a3e5"
      },
      "source": [
        "# using list instead of array so we can .pop() (np arrays don't pop with built-in method)\n",
        "\n",
        "def merge_sort(my_list): \n",
        "    \n",
        "    if len(my_list) > 1: # First, check if the list has more than 1 element. \n",
        "                         # if length is 1, it needs not be sorted \n",
        "                         # (at deepest recursion, some will have len 1, others len 2)\n",
        "        \n",
        "        # 1. Halve: whenever halving happens, it's ~O(log n)\n",
        "        midpoint = len(my_list) // 2        # Note: ~O(log n)\n",
        "        left_half = my_list[:midpoint]\n",
        "        right_half = my_list[midpoint:]\n",
        "\n",
        "        # 2. Sort (recursively):\n",
        "        left_half = merge_sort(left_half)\n",
        "        right_half = merge_sort(right_half)\n",
        "        \n",
        "        my_list = []\n",
        "        \n",
        "        # 3. Merge: popping elements off.\n",
        "        while len(left_half) > 0 and len(right_half) > 0: # Note: This inner loop exhibits ~O(n) behavior (linear)\n",
        "            \n",
        "            if left_half[0] < right_half[0]:\n",
        "                my_list.append(left_half.pop(0)) # pop first element (and it's gone.)\n",
        "                                                 # and then the [left_half] list becomes empty.\n",
        "                                                 # when both the single-element lists get popped, the while loop will stop.\n",
        "            \n",
        "            else: # 1st element of right half < 1st element of left\n",
        "                my_list.append(right_half.pop(0)) # pop and append the smaller value to my_list\n",
        "                \n",
        "        # If any elements remain from either half, they must be the largest value:\n",
        "        for i in left_half:\n",
        "            my_list.append(i)\n",
        "        for i in right_half:\n",
        "            my_list.append(i)\n",
        "    \n",
        "    return my_list"
      ],
      "execution_count": null,
      "outputs": [
      ]
    },
    {
      "cell_type": "code",
      "metadata": {
        "colab": {
          "base_uri": "https://localhost:8080/",
          "height": 35
        },
        "id": "U_smkn8-5hxL",
        "outputId": "0d007a07-264b-426e-bce1-41954c120b20"
      },
      "source": [
        "m = list(np.array([np.random.randint(0, 101) for integre in range(10)]))\n",
        "m"
      ],
      "execution_count": null,
      "outputs": [
        {
          "output_type": "execute_result",
          "data": {
            "text/plain": [
              "[44, 70, 97, 4, 96, 32, 78, 15, 100, 35]"
            ]
          },
          "metadata": {},
          "execution_count": 188
        }
      ]
    },
    {
      "cell_type": "code",
      "metadata": {
        "colab": {
          "base_uri": "https://localhost:8080/",
          "height": 35
        },
        "id": "IrAx62rH97kE",
        "outputId": "e251ca33-9392-450b-cad2-fcebecf88ffd"
      },
      "source": [
        "merge_sort(m)"
      ],
      "execution_count": null,
      "outputs": [
        {
          "output_type": "execute_result",
          "data": {
            "text/plain": [
              "[4, 15, 32, 35, 44, 70, 78, 96, 97, 100]"
            ]
          },
          "metadata": {},
          "execution_count": 189
        }
      ]
    },
    {
      "cell_type": "markdown",
      "metadata": {
        "id": "ns07DpWYe6mv"
      },
      "source": [
        "## Visible Merge Sort"
      ]
    },
    {
      "cell_type": "code",
      "metadata": {
        "colab": {
          "base_uri": "https://localhost:8080/",
          "height": 17
        },
        "id": "ZH-1cctke9Fh",
        "outputId": "544969df-58eb-4beb-abbb-04d92bea6b66"
      },
      "source": [
        "# using list instead of array so we can .pop() (np arrays don't pop with built-in method)\n",
        "\n",
        "def visible_merge_sort(my_list): \n",
        "\n",
        "    if len(my_list) > 1: # First, check if the list has more than 1 element. \n",
        "                         # if length is 1, it needs not be sorted \n",
        "                         # (at deepest recursion, some will have len 1, others len 2)\n",
        "\n",
        "           \n",
        "        # 1. Halve: whenever halving happens, it's ~O(log n)\n",
        "        midpoint = len(my_list) // 2        # Note: ~O(log n)\n",
        "        left_half = my_list[:midpoint]\n",
        "        right_half = my_list[midpoint:]\n",
        "        print(f'1 Halve op')\n",
        "        print(f'1 midpoint: {midpoint}')\n",
        "        print(my_list)\n",
        "        print(f\"1 left_half = my_list[:{midpoint}] - {my_list[:midpoint]}\")\n",
        "        print(f\"1 right_half = my_list[{midpoint}:] - {my_list[midpoint:]}\\n\")\n",
        "        # The operation Halve (1) keeps chopping the list untile there is only 1 element in the list. \n",
        "\n",
        "\n",
        "        # 2. Sort (recursively):\n",
        "        print(f'2 Sort op - left_half')\n",
        "        left_half = visible_merge_sort(left_half)\n",
        "        print(f'2 Sort op - right_half\\n')\n",
        "        right_half = visible_merge_sort(right_half)\n",
        "        \n",
        "        my_list = []\n",
        "        \n",
        "        # 3. Merge: popping elements off.\n",
        "        while len(left_half) > 0 and len(right_half) > 0: # Note: This inner loop exhibits ~O(n) behavior (linear)\n",
        "            \n",
        "            if left_half[0] < right_half[0]:\n",
        "                print(f\"3 Merge op\")\n",
        "                left_pop = left_half.pop(0)\n",
        "                my_list.append(left_pop) # pop first element\n",
        "                print(f'3 popped from left half: {left_pop}\\n')\n",
        "                print(my_list)\n",
        "            \n",
        "            else: # 1st element of right half < 1st element of left\n",
        "                print(f\"3 Merge op\")\n",
        "                right_pop = right_half.pop(0)\n",
        "                my_list.append(right_pop) # pop and append the smaller value to my_list\n",
        "                print(f'3 popped from right half: {right_pop}\\n')\n",
        "                print(my_list)\n",
        "\n",
        "\n",
        "        # If any elements remain from either half, they must be the largest value:\n",
        "        for i in left_half:\n",
        "            my_list.append(i)\n",
        "            print(f'4 append i op')\n",
        "            print(f\"i in left half: {i}\")\n",
        "            print(my_list)\n",
        "        for i in right_half:\n",
        "            my_list.append(i)\n",
        "            print(f'4 append i op')            \n",
        "            print(f\"i in right half: {i}\")\n",
        "            print(f\"{my_list}\\n\")\n",
        "    \n",
        "    return my_list"
      ],
      "execution_count": null,
      "outputs": [
      ]
    },
    {
      "cell_type": "code",
      "metadata": {
        "colab": {
          "base_uri": "https://localhost:8080/",
          "height": 1000
        },
        "id": "vNPVTKW9gkXn",
        "outputId": "eef1de98-6212-4870-c4ea-e1c57fa59369"
      },
      "source": [
        "visible_merge_sort(v)"
      ],
      "execution_count": null,
      "outputs": [
        {
          "output_type": "stream",
          "name": "stdout",
          "text": [
            "1 Halve op\n",
            "1 midpoint: 5\n",
            "[61, 63, 72, 76, 1, 93, 16, 61, 55, 2]\n",
            "1 left_half = my_list[:5] - [61, 63, 72, 76, 1]\n",
            "1 right_half = my_list[5:] - [93, 16, 61, 55, 2]\n",
            "\n",
            "2 Sort op - left_half\n",
            "1 Halve op\n",
            "1 midpoint: 2\n",
            "[61, 63, 72, 76, 1]\n",
            "1 left_half = my_list[:2] - [61, 63]\n",
            "1 right_half = my_list[2:] - [72, 76, 1]\n",
            "\n",
            "2 Sort op - left_half\n",
            "1 Halve op\n",
            "1 midpoint: 1\n",
            "[61, 63]\n",
            "1 left_half = my_list[:1] - [61]\n",
            "1 right_half = my_list[1:] - [63]\n",
            "\n",
            "2 Sort op - left_half\n",
            "2 Sort op - right_half\n",
            "\n",
            "3 Merge op\n",
            "3 popped from left half: 61\n",
            "\n",
            "[61]\n",
            "4 append i op\n",
            "i in right half: 63\n",
            "[61, 63]\n",
            "\n",
            "2 Sort op - right_half\n",
            "\n",
            "1 Halve op\n",
            "1 midpoint: 1\n",
            "[72, 76, 1]\n",
            "1 left_half = my_list[:1] - [72]\n",
            "1 right_half = my_list[1:] - [76, 1]\n",
            "\n",
            "2 Sort op - left_half\n",
            "2 Sort op - right_half\n",
            "\n",
            "1 Halve op\n",
            "1 midpoint: 1\n",
            "[76, 1]\n",
            "1 left_half = my_list[:1] - [76]\n",
            "1 right_half = my_list[1:] - [1]\n",
            "\n",
            "2 Sort op - left_half\n",
            "2 Sort op - right_half\n",
            "\n",
            "3 Merge op\n",
            "3 popped from right half: 1\n",
            "\n",
            "[1]\n",
            "4 append i op\n",
            "i in left half: 76\n",
            "[1, 76]\n",
            "3 Merge op\n",
            "3 popped from right half: 1\n",
            "\n",
            "[1]\n",
            "3 Merge op\n",
            "3 popped from left half: 72\n",
            "\n",
            "[1, 72]\n",
            "4 append i op\n",
            "i in right half: 76\n",
            "[1, 72, 76]\n",
            "\n",
            "3 Merge op\n",
            "3 popped from right half: 1\n",
            "\n",
            "[1]\n",
            "3 Merge op\n",
            "3 popped from left half: 61\n",
            "\n",
            "[1, 61]\n",
            "3 Merge op\n",
            "3 popped from left half: 63\n",
            "\n",
            "[1, 61, 63]\n",
            "4 append i op\n",
            "i in right half: 72\n",
            "[1, 61, 63, 72]\n",
            "\n",
            "4 append i op\n",
            "i in right half: 76\n",
            "[1, 61, 63, 72, 76]\n",
            "\n",
            "2 Sort op - right_half\n",
            "\n",
            "1 Halve op\n",
            "1 midpoint: 2\n",
            "[93, 16, 61, 55, 2]\n",
            "1 left_half = my_list[:2] - [93, 16]\n",
            "1 right_half = my_list[2:] - [61, 55, 2]\n",
            "\n",
            "2 Sort op - left_half\n",
            "1 Halve op\n",
            "1 midpoint: 1\n",
            "[93, 16]\n",
            "1 left_half = my_list[:1] - [93]\n",
            "1 right_half = my_list[1:] - [16]\n",
            "\n",
            "2 Sort op - left_half\n",
            "2 Sort op - right_half\n",
            "\n",
            "3 Merge op\n",
            "3 popped from right half: 16\n",
            "\n",
            "[16]\n",
            "4 append i op\n",
            "i in left half: 93\n",
            "[16, 93]\n",
            "2 Sort op - right_half\n",
            "\n",
            "1 Halve op\n",
            "1 midpoint: 1\n",
            "[61, 55, 2]\n",
            "1 left_half = my_list[:1] - [61]\n",
            "1 right_half = my_list[1:] - [55, 2]\n",
            "\n",
            "2 Sort op - left_half\n",
            "2 Sort op - right_half\n",
            "\n",
            "1 Halve op\n",
            "1 midpoint: 1\n",
            "[55, 2]\n",
            "1 left_half = my_list[:1] - [55]\n",
            "1 right_half = my_list[1:] - [2]\n",
            "\n",
            "2 Sort op - left_half\n",
            "2 Sort op - right_half\n",
            "\n",
            "3 Merge op\n",
            "3 popped from right half: 2\n",
            "\n",
            "[2]\n",
            "4 append i op\n",
            "i in left half: 55\n",
            "[2, 55]\n",
            "3 Merge op\n",
            "3 popped from right half: 2\n",
            "\n",
            "[2]\n",
            "3 Merge op\n",
            "3 popped from right half: 55\n",
            "\n",
            "[2, 55]\n",
            "4 append i op\n",
            "i in left half: 61\n",
            "[2, 55, 61]\n",
            "3 Merge op\n",
            "3 popped from right half: 2\n",
            "\n",
            "[2]\n",
            "3 Merge op\n",
            "3 popped from left half: 16\n",
            "\n",
            "[2, 16]\n",
            "3 Merge op\n",
            "3 popped from right half: 55\n",
            "\n",
            "[2, 16, 55]\n",
            "3 Merge op\n",
            "3 popped from right half: 61\n",
            "\n",
            "[2, 16, 55, 61]\n",
            "4 append i op\n",
            "i in left half: 93\n",
            "[2, 16, 55, 61, 93]\n",
            "3 Merge op\n",
            "3 popped from left half: 1\n",
            "\n",
            "[1]\n",
            "3 Merge op\n",
            "3 popped from right half: 2\n",
            "\n",
            "[1, 2]\n",
            "3 Merge op\n",
            "3 popped from right half: 16\n",
            "\n",
            "[1, 2, 16]\n",
            "3 Merge op\n",
            "3 popped from right half: 55\n",
            "\n",
            "[1, 2, 16, 55]\n",
            "3 Merge op\n",
            "3 popped from right half: 61\n",
            "\n",
            "[1, 2, 16, 55, 61]\n",
            "3 Merge op\n",
            "3 popped from left half: 61\n",
            "\n",
            "[1, 2, 16, 55, 61, 61]\n",
            "3 Merge op\n",
            "3 popped from left half: 63\n",
            "\n",
            "[1, 2, 16, 55, 61, 61, 63]\n",
            "3 Merge op\n",
            "3 popped from left half: 72\n",
            "\n",
            "[1, 2, 16, 55, 61, 61, 63, 72]\n",
            "3 Merge op\n",
            "3 popped from left half: 76\n",
            "\n",
            "[1, 2, 16, 55, 61, 61, 63, 72, 76]\n",
            "4 append i op\n",
            "i in right half: 93\n",
            "[1, 2, 16, 55, 61, 61, 63, 72, 76, 93]\n",
            "\n"
          ]
        },
        {
          "output_type": "execute_result",
          "data": {
            "text/plain": [
              "[1, 2, 16, 55, 61, 61, 63, 72, 76, 93]"
            ]
          },
          "metadata": {},
          "execution_count": 250
        }
      ]
    },
    {
      "cell_type": "markdown",
      "metadata": {
        "id": "0UazNQtze4N_"
      },
      "source": [
        "## Mathematical Explanation"
      ]
    },
    {
      "cell_type": "markdown",
      "metadata": {
        "id": "wlK1SXZKciwR"
      },
      "source": [
        "Because of the O($n$) loop performing comparisons inside of the function halving list sizes (which we'll need to call O(log $n$) times), merge sort time complexity is the product, i.e., O($n$ log $n$). \n",
        "\n",
        "Inside the `merge_sort()` function:\n",
        "\n",
        "- 1. Halve: $O(\\text{log } n)$  \n",
        "- 3. Marge: $O(n)$\n",
        "\n",
        "Therefore: \n",
        "\n",
        "$$O(\\text{log } n) \\cdot n = O(n \\cdot \\text{log } n)$$"
      ]
    },
    {
      "cell_type": "code",
      "metadata": {
        "colab": {
          "base_uri": "https://localhost:8080/",
          "height": 586
        },
        "id": "h7Sb-wAQcimg",
        "outputId": "87431ffa-db46-46fe-890f-656b5e3e4432"
      },
      "source": [
        "big_o = get_img(\"/content/here/MyDrive/Data and Algorithms/ALGO02/big-O complexity chart.png\", resize=1)\n",
        "big_o = take_notes(big_o, \"Merge sort should be computationally more efficient than bubble sort.\", \n",
        "                   org=(0.3, 0.4), fontFace=cv2.FONT_HERSHEY_SIMPLEX, fontScale=0.5, color=1, thickness=1)\n",
        "big_o = cite_source(big_o, \"chart from https://bigocheatsheet.com/\", scale=0.4)\n",
        "cv2_imshow(big_o)"
      ],
      "execution_count": null,
      "outputs": [
        {
          "output_type": "display_data",
          "data": {
            "image/png": "[encoded data removed]",
            "text/plain": [
              "<PIL.Image.Image image mode=RGB size=822x569 at 0x7F4BAF2921D0>"
            ]
          },
          "metadata": {}
        }
      ]
    },
    {
      "cell_type": "markdown",
      "metadata": {
        "id": "RELCxBqjtyPZ"
      },
      "source": [
        "## Merge Sort Time Complexity"
      ]
    },
    {
      "cell_type": "code",
      "metadata": {
        "colab": {
          "base_uri": "https://localhost:8080/",
          "height": 35
        },
        "id": "nPowSGZYt_AR",
        "outputId": "d37894f6-683c-4555-e064-96253ea5b25b"
      },
      "source": [
        "tens = [10**n for n in range(1, 6)]\n",
        "fifties = [5*10**n for n in range(1, 5)]\n",
        "lengths = (tens + fifties)\n",
        "lengths.sort()\n",
        "lengths"
      ],
      "execution_count": null,
      "outputs": [
        {
          "output_type": "execute_result",
          "data": {
            "text/plain": [
              "[10, 50, 100, 500, 1000, 5000, 10000, 50000, 100000]"
            ]
          },
          "metadata": {},
          "execution_count": 273
        }
      ]
    },
    {
      "cell_type": "code",
      "metadata": {
        "colab": {
          "base_uri": "https://localhost:8080/",
          "height": 799
        },
        "id": "_OMsQX09_rVp",
        "outputId": "690bf40d-7686-415f-a736-127408014398"
      },
      "source": [
        "# Use the single list.\n",
        "start = time.process_time()\n",
        "random_list = list(np.array([np.random.randint(0, 100000) for integer in range(100000)]))\n",
        "end = time.process_time()\n",
        "print(f\"random list generation completed in {end - start} seconds.\\n\")\n",
        "print(f\"list sample: {random_list[:20]}\\n\")\n",
        "\n",
        "merge_times = []\n",
        "\n",
        "for length in lengths:\n",
        "    print(f\"Merge sort {length} items\")\n",
        "    start = time.process_time()\n",
        "    sorted_list = merge_sort(random_list[:length])\n",
        "    end = time.process_time()\n",
        "    print(f\"Sorted list: {sorted_list[:20]}\")\n",
        "    print(f'Runtime: {end - start} seconds\\n')\n",
        "\n",
        "    merge_times.append(end - start)"
      ],
      "execution_count": null,
      "outputs": [
        {
          "output_type": "stream",
          "name": "stdout",
          "text": [
            "random list generation completed in 0.32959652099998493 seconds.\n",
            "\n",
            "list sample: [23209, 95026, 61834, 35665, 11282, 61191, 86851, 26214, 61103, 41306, 16875, 36417, 13277, 27485, 55198, 87175, 73891, 96197, 48138, 57575]\n",
            "\n",
            "Merge sort 10 items\n",
            "Sorted list: [11282, 23209, 26214, 35665, 41306, 61103, 61191, 61834, 86851, 95026]\n",
            "Runtime: 0.015920764000043164 seconds\n",
            "\n",
            "Merge sort 50 items\n",
            "Sorted list: [2066, 9860, 10533, 11282, 11769, 13277, 16875, 17763, 23209, 26214, 27361, 27485, 30949, 31997, 32085, 32118, 32201, 35665, 36417, 37820]\n",
            "Runtime: 0.0002597949999199045 seconds\n",
            "\n",
            "Merge sort 100 items\n",
            "Sorted list: [2066, 2374, 6293, 6956, 9860, 10533, 11282, 11769, 13277, 16875, 17318, 17763, 20066, 21453, 23209, 24851, 26214, 27361, 27485, 28213]\n",
            "Runtime: 0.0004155079999463851 seconds\n",
            "\n",
            "Merge sort 500 items\n",
            "Sorted list: [47, 159, 302, 535, 539, 897, 900, 1025, 1706, 1822, 2066, 2116, 2374, 2706, 3257, 3667, 3720, 4488, 4540, 4659]\n",
            "Runtime: 0.002258973999914815 seconds\n",
            "\n",
            "Merge sort 1000 items\n",
            "Sorted list: [1, 47, 75, 159, 302, 364, 473, 535, 539, 849, 897, 900, 1025, 1081, 1230, 1231, 1293, 1302, 1378, 1415]\n",
            "Runtime: 0.0049287450000292665 seconds\n",
            "\n",
            "Merge sort 5000 items\n",
            "Sorted list: [1, 5, 22, 36, 47, 55, 65, 75, 79, 117, 135, 159, 167, 177, 185, 197, 235, 302, 324, 352]\n",
            "Runtime: 0.03202295799997046 seconds\n",
            "\n",
            "Merge sort 10000 items\n",
            "Sorted list: [1, 5, 12, 22, 23, 26, 36, 47, 51, 55, 62, 65, 75, 75, 79, 108, 117, 135, 138, 140]\n",
            "Runtime: 0.07277372199996535 seconds\n",
            "\n",
            "Merge sort 50000 items\n",
            "Sorted list: [0, 0, 1, 4, 5, 6, 6, 9, 9, 11, 11, 12, 12, 12, 13, 15, 17, 18, 22, 22]\n",
            "Runtime: 0.618538310999952 seconds\n",
            "\n",
            "Merge sort 100000 items\n",
            "Sorted list: [0, 0, 1, 2, 3, 4, 4, 4, 5, 5, 6, 6, 6, 6, 9, 9, 11, 11, 12, 12]\n",
            "Runtime: 1.7155163060000405 seconds\n",
            "\n"
          ]
        }
      ]
    },
    {
      "cell_type": "code",
      "metadata": {
        "colab": {
          "base_uri": "https://localhost:8080/",
          "height": 331
        },
        "id": "sMFWCw8jvLhO",
        "outputId": "ab2f78ef-321a-4e43-aa3a-2d444248b092"
      },
      "source": [
        "merge_time_df = pd.DataFrame(list(zip(lengths, merge_times)), columns=[\"length\", \"time\"])\n",
        "merge_time_df"
      ],
      "execution_count": null,
      "outputs": [
        {
          "output_type": "execute_result",
          "data": {
            "text/html": [
              "<div>\n",
              "<style scoped>\n",
              "    .dataframe tbody tr th:only-of-type {\n",
              "        vertical-align: middle;\n",
              "    }\n",
              "\n",
              "    .dataframe tbody tr th {\n",
              "        vertical-align: top;\n",
              "    }\n",
              "\n",
              "    .dataframe thead th {\n",
              "        text-align: right;\n",
              "    }\n",
              "</style>\n",
              "<table border=\"1\" class=\"dataframe\">\n",
              "  <thead>\n",
              "    <tr style=\"text-align: right;\">\n",
              "      <th></th>\n",
              "      <th>length</th>\n",
              "      <th>time</th>\n",
              "    </tr>\n",
              "  </thead>\n",
              "  <tbody>\n",
              "    <tr>\n",
              "      <th>0</th>\n",
              "      <td>10</td>\n",
              "      <td>0.015921</td>\n",
              "    </tr>\n",
              "    <tr>\n",
              "      <th>1</th>\n",
              "      <td>50</td>\n",
              "      <td>0.000260</td>\n",
              "    </tr>\n",
              "    <tr>\n",
              "      <th>2</th>\n",
              "      <td>100</td>\n",
              "      <td>0.000416</td>\n",
              "    </tr>\n",
              "    <tr>\n",
              "      <th>3</th>\n",
              "      <td>500</td>\n",
              "      <td>0.002259</td>\n",
              "    </tr>\n",
              "    <tr>\n",
              "      <th>4</th>\n",
              "      <td>1000</td>\n",
              "      <td>0.004929</td>\n",
              "    </tr>\n",
              "    <tr>\n",
              "      <th>5</th>\n",
              "      <td>5000</td>\n",
              "      <td>0.032023</td>\n",
              "    </tr>\n",
              "    <tr>\n",
              "      <th>6</th>\n",
              "      <td>10000</td>\n",
              "      <td>0.072774</td>\n",
              "    </tr>\n",
              "    <tr>\n",
              "      <th>7</th>\n",
              "      <td>50000</td>\n",
              "      <td>0.618538</td>\n",
              "    </tr>\n",
              "    <tr>\n",
              "      <th>8</th>\n",
              "      <td>100000</td>\n",
              "      <td>1.715516</td>\n",
              "    </tr>\n",
              "  </tbody>\n",
              "</table>\n",
              "</div>"
            ],
            "text/plain": [
              "   length      time\n",
              "0      10  0.015921\n",
              "1      50  0.000260\n",
              "2     100  0.000416\n",
              "3     500  0.002259\n",
              "4    1000  0.004929\n",
              "5    5000  0.032023\n",
              "6   10000  0.072774\n",
              "7   50000  0.618538\n",
              "8  100000  1.715516"
            ]
          },
          "metadata": {},
          "execution_count": 285
        }
      ]
    },
    {
      "cell_type": "code",
      "metadata": {
        "colab": {
          "base_uri": "https://localhost:8080/",
          "height": 383
        },
        "id": "bQJjvIS_w9za",
        "outputId": "52b03747-5f69-49fb-dcc3-3fe6593e4a2e"
      },
      "source": [
        "sb.lmplot(x='length', y='time', data=merge_time_df, ci=None, order=2)"
      ],
      "execution_count": null,
      "outputs": [
        {
          "output_type": "execute_result",
          "data": {
            "text/plain": [
              "<seaborn.axisgrid.FacetGrid at 0x7f4bae8938d0>"
            ]
          },
          "metadata": {},
          "execution_count": 286
        },
        {
          "output_type": "display_data",
          "data": {
            "image/png": "[encoded data removed]",
            "text/plain": [
              "<Figure size 360x360 with 1 Axes>"
            ]
          },
          "metadata": {}
        }
      ]
    },
    {
      "cell_type": "markdown",
      "metadata": {
        "id": "Ra-OMk6tygUN"
      },
      "source": [
        "- **Time Efficiency** (Merge Sort)\n",
        "  - Merge sort is much more time-efficient relative to the bubble sort. \n",
        "- **Memory Efficiency** (Bubble Sort)\n",
        "  - However, memory efficiency wise, bubble sort is much more efficient. It's storing only 2 elements per operation. \n",
        " "
      ]
    },
    {
      "cell_type": "markdown",
      "metadata": {
        "id": "1PrTUmWfy_w8"
      },
      "source": [
        "Exerpt from [Dr Krohn's notebook **7-algos-and-data-structures.ipynb**](https://colab.research.google.com/github/jonkrohn/ML-foundations/blob/master/notebooks/7-algos-and-data-structures.ipynb#scrollTo=d4tBvI88BheF): \n",
        "\n",
        "In contrast, while memory complexity for bubble sort was O(1) because we were sorting \"in place\" (not storing any values in memory), memory complexity is O($n$) for merge sort. \n",
        "\n",
        "(We need at least two array copies (2$n$) for the most space-efficient merge sort implementations, but we drop constants so this becomes O($n$). Our recursive merge sort implementation would require more as it stores several copies in memory; one more copy of size $n$ would be used for every time the array length doubles (log $n$) resulting in O($n$ log $n$) memory complexity.)\n",
        "\n",
        "<br/>\n",
        "\n",
        "---\n",
        "\n",
        "<br/>\n",
        "\n",
        "Over the course of studying this topic, you'll: \n",
        "\n",
        "* Use “Big O” notation to characterize the time efficiency and space efficiency of a given algorithm, enabling you to select or devise the most sensible approach for tackling a particular machine learning problem with the hardware resources available to you.\n",
        "* Get acquainted with the entire range of the most widely-used Python data structures, including list-, dictionary-, tree-, and graph-based structures. \n",
        "* Develop an understanding of all of the essential algorithms for working with data, including those for searching, sorting, hashing, and traversing. "
      ]
    },
    {
      "cell_type": "markdown",
      "metadata": {
        "id": "O3KHteJ9OshX"
      },
      "source": [
        "## References\n",
        "\n",
        "My algorithm learning notebook following the live lesson series [**\"Data Structures, Algorithms, and Machine Learning Optimization\"**](https://learning.oreilly.com/videos/data-structures-algorithms/9780137644889/) by Dr. Jon Krohn. I adapted some and partially modified or added entirely new code. Notes largely based on and (some of them entirely) from Jon's notebooks and learning materials. The lesson and original notebook source code at:\n",
        "\n",
        "https://learning.oreilly.com/videos/data-structures-algorithms/9780137644889/\n",
        "https://github.com/jonkrohn/ML-foundations/blob/master/notebooks/7-algos-and-data-structures.ipynb"
      ]
    }
  ]
}
