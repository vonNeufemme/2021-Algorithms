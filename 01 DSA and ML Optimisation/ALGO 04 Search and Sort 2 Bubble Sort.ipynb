{
  "nbformat": 4,
  "nbformat_minor": 0,
  "metadata": {
    "colab": {
      "name": "Copy of ALGO 04 Search and Sort 2 Bubble Sort",
      "provenance": [],
      "collapsed_sections": []
    },
    "kernelspec": {
      "name": "python3",
      "display_name": "Python 3"
    },
    "language_info": {
      "name": "python"
    }
  },
  "cells": [
    {
      "cell_type": "markdown",
      "metadata": {
        "id": "-iQOFLLdv7Nx"
      },
      "source": [
        "# Searching & Sorting\n",
        "- Not frequent in ML however:\n",
        "  - Examplary to demo: \n",
        "    - Time complexity\n",
        "    - Space complexity\n",
        "    - Tyipcal time/space tradeoff\n",
        "  - Helpful for ML pipelines:\n",
        "    - Data Capture\n",
        "    - Preprocessing\n",
        "    - Training\n",
        "    - Deployment"
      ]
    },
    {
      "cell_type": "markdown",
      "metadata": {
        "id": "3x9nq9P9guQD"
      },
      "source": [
        "# 4.2 Bubble Sort\n",
        "\n",
        "Binary search required a sorted list. To sort a list (e.g., from smallest to largest value), the most naïve (and computationally complex) approach would be to compare a given element with all other elements.\n",
        "\n",
        "A common naïve implementation is the **bubble sort**, which allows the largest values to gradually \"bubble up\" toward the \"top\" (typically the end) of the array:"
      ]
    },
    {
      "cell_type": "code",
      "metadata": {
        "id": "GLqAFM4Sj29v",
        "colab": {
          "base_uri": "https://localhost:8080/",
          "height": 17
        },
        "outputId": "eb597ec4-4b18-4578-f4d9-c7cd99a0bd23"
      },
      "source": [
        "def bubble_sort(array):\n",
        "\n",
        "    n = len(array)\n",
        "\n",
        "    print(f\"max search count: {n**2}\\n\")\n",
        "\n",
        "    switch_count = 0\n",
        "    for i in range(n-1):                # for the index of the array\n",
        "        for j in range(0, n-1):         # * see below\n",
        "            if array[j] > array[j+1]:   # if an element at j is greater than the next one\n",
        "                array[j], array[j+1] = array[j+1], array[j] # switch position between them. ## ** See below. \n",
        "                switch_count += 1\n",
        "                print(f'{array}, switch: {switch_count}')\n",
        "    print(f'Sort completed after {switch_count} operations.\\n')\n",
        "\n",
        "    return array\n",
        "\n",
        "# * could be n-i-1 as, e.g., top value is guaranteed to have bubbled up in 1st iteration.\n",
        "## ** The only line that require memory storage, pretty trivial amount. VEERRRY little memory footprint."
      ],
      "execution_count": null,
      "outputs": [
      ]
    },
    {
      "cell_type": "code",
      "metadata": {
        "colab": {
          "base_uri": "https://localhost:8080/",
          "height": 35
        },
        "id": "4Cpm5bqbDJKe",
        "outputId": "f544f261-11b6-48bd-c1eb-b57880376ab0"
      },
      "source": [
        "array1 = [np.random.randint(1, 101) for integer in range(6)]\n",
        "array1"
      ],
      "execution_count": null,
      "outputs": [
        {
          "output_type": "execute_result",
          "data": {
            "text/plain": [
              "[64, 90, 32, 93, 57, 53]"
            ]
          },
          "metadata": {},
          "execution_count": 108
        }
      ]
    },
    {
      "cell_type": "code",
      "metadata": {
        "colab": {
          "base_uri": "https://localhost:8080/",
          "height": 272
        },
        "id": "IzHUpB4rr0dM",
        "outputId": "c319cc66-1d45-4934-a874-742ff3be292d"
      },
      "source": [
        "bubble_sort(array1)"
      ],
      "execution_count": null,
      "outputs": [
        {
          "output_type": "stream",
          "name": "stdout",
          "text": [
            "max search count: 36\n",
            "\n",
            "[64, 32, 90, 93, 57, 53], switch: 1\n",
            "[64, 32, 90, 57, 93, 53], switch: 2\n",
            "[64, 32, 90, 57, 53, 93], switch: 3\n",
            "[32, 64, 90, 57, 53, 93], switch: 4\n",
            "[32, 64, 57, 90, 53, 93], switch: 5\n",
            "[32, 64, 57, 53, 90, 93], switch: 6\n",
            "[32, 57, 64, 53, 90, 93], switch: 7\n",
            "[32, 57, 53, 64, 90, 93], switch: 8\n",
            "[32, 53, 57, 64, 90, 93], switch: 9\n",
            "Sort completed after 9 operations.\n",
            "\n"
          ]
        },
        {
          "output_type": "execute_result",
          "data": {
            "text/plain": [
              "[32, 53, 57, 64, 90, 93]"
            ]
          },
          "metadata": {},
          "execution_count": 109
        }
      ]
    },
    {
      "cell_type": "code",
      "metadata": {
        "colab": {
          "base_uri": "https://localhost:8080/",
          "height": 35
        },
        "id": "RpI4zmnOFBSd",
        "outputId": "6ba0403e-f353-4c30-ebb4-829e800eced3"
      },
      "source": [
        "array2 = [np.random.randint(2, 202) for integer in range(12)]\n",
        "array2"
      ],
      "execution_count": null,
      "outputs": [
        {
          "output_type": "execute_result",
          "data": {
            "text/plain": [
              "[111, 145, 172, 185, 7, 49, 136, 83, 40, 135, 111, 51]"
            ]
          },
          "metadata": {},
          "execution_count": 110
        }
      ]
    },
    {
      "cell_type": "code",
      "metadata": {
        "colab": {
          "base_uri": "https://localhost:8080/",
          "height": 835
        },
        "id": "I5qVIlg6FI3O",
        "outputId": "7bfa7810-3a0e-4709-8d63-d2de68981f4e"
      },
      "source": [
        "bubble_sort(array2)"
      ],
      "execution_count": null,
      "outputs": [
        {
          "output_type": "stream",
          "name": "stdout",
          "text": [
            "max search count: 144\n",
            "\n",
            "[111, 145, 172, 7, 185, 49, 136, 83, 40, 135, 111, 51], switch: 1\n",
            "[111, 145, 172, 7, 49, 185, 136, 83, 40, 135, 111, 51], switch: 2\n",
            "[111, 145, 172, 7, 49, 136, 185, 83, 40, 135, 111, 51], switch: 3\n",
            "[111, 145, 172, 7, 49, 136, 83, 185, 40, 135, 111, 51], switch: 4\n",
            "[111, 145, 172, 7, 49, 136, 83, 40, 185, 135, 111, 51], switch: 5\n",
            "[111, 145, 172, 7, 49, 136, 83, 40, 135, 185, 111, 51], switch: 6\n",
            "[111, 145, 172, 7, 49, 136, 83, 40, 135, 111, 185, 51], switch: 7\n",
            "[111, 145, 172, 7, 49, 136, 83, 40, 135, 111, 51, 185], switch: 8\n",
            "[111, 145, 7, 172, 49, 136, 83, 40, 135, 111, 51, 185], switch: 9\n",
            "[111, 145, 7, 49, 172, 136, 83, 40, 135, 111, 51, 185], switch: 10\n",
            "[111, 145, 7, 49, 136, 172, 83, 40, 135, 111, 51, 185], switch: 11\n",
            "[111, 145, 7, 49, 136, 83, 172, 40, 135, 111, 51, 185], switch: 12\n",
            "[111, 145, 7, 49, 136, 83, 40, 172, 135, 111, 51, 185], switch: 13\n",
            "[111, 145, 7, 49, 136, 83, 40, 135, 172, 111, 51, 185], switch: 14\n",
            "[111, 145, 7, 49, 136, 83, 40, 135, 111, 172, 51, 185], switch: 15\n",
            "[111, 145, 7, 49, 136, 83, 40, 135, 111, 51, 172, 185], switch: 16\n",
            "[111, 7, 145, 49, 136, 83, 40, 135, 111, 51, 172, 185], switch: 17\n",
            "[111, 7, 49, 145, 136, 83, 40, 135, 111, 51, 172, 185], switch: 18\n",
            "[111, 7, 49, 136, 145, 83, 40, 135, 111, 51, 172, 185], switch: 19\n",
            "[111, 7, 49, 136, 83, 145, 40, 135, 111, 51, 172, 185], switch: 20\n",
            "[111, 7, 49, 136, 83, 40, 145, 135, 111, 51, 172, 185], switch: 21\n",
            "[111, 7, 49, 136, 83, 40, 135, 145, 111, 51, 172, 185], switch: 22\n",
            "[111, 7, 49, 136, 83, 40, 135, 111, 145, 51, 172, 185], switch: 23\n",
            "[111, 7, 49, 136, 83, 40, 135, 111, 51, 145, 172, 185], switch: 24\n",
            "[7, 111, 49, 136, 83, 40, 135, 111, 51, 145, 172, 185], switch: 25\n",
            "[7, 49, 111, 136, 83, 40, 135, 111, 51, 145, 172, 185], switch: 26\n",
            "[7, 49, 111, 83, 136, 40, 135, 111, 51, 145, 172, 185], switch: 27\n",
            "[7, 49, 111, 83, 40, 136, 135, 111, 51, 145, 172, 185], switch: 28\n",
            "[7, 49, 111, 83, 40, 135, 136, 111, 51, 145, 172, 185], switch: 29\n",
            "[7, 49, 111, 83, 40, 135, 111, 136, 51, 145, 172, 185], switch: 30\n",
            "[7, 49, 111, 83, 40, 135, 111, 51, 136, 145, 172, 185], switch: 31\n",
            "[7, 49, 83, 111, 40, 135, 111, 51, 136, 145, 172, 185], switch: 32\n",
            "[7, 49, 83, 40, 111, 135, 111, 51, 136, 145, 172, 185], switch: 33\n",
            "[7, 49, 83, 40, 111, 111, 135, 51, 136, 145, 172, 185], switch: 34\n",
            "[7, 49, 83, 40, 111, 111, 51, 135, 136, 145, 172, 185], switch: 35\n",
            "[7, 49, 40, 83, 111, 111, 51, 135, 136, 145, 172, 185], switch: 36\n",
            "[7, 49, 40, 83, 111, 51, 111, 135, 136, 145, 172, 185], switch: 37\n",
            "[7, 40, 49, 83, 111, 51, 111, 135, 136, 145, 172, 185], switch: 38\n",
            "[7, 40, 49, 83, 51, 111, 111, 135, 136, 145, 172, 185], switch: 39\n",
            "[7, 40, 49, 51, 83, 111, 111, 135, 136, 145, 172, 185], switch: 40\n",
            "Sort completed after 40 operations.\n",
            "\n"
          ]
        },
        {
          "output_type": "execute_result",
          "data": {
            "text/plain": [
              "[7, 40, 49, 51, 83, 111, 111, 135, 136, 145, 172, 185]"
            ]
          },
          "metadata": {},
          "execution_count": 111
        }
      ]
    },
    {
      "cell_type": "markdown",
      "metadata": {
        "id": "K8t0oMya5imi"
      },
      "source": [
        "### Bubble Sort Time Complexity"
      ]
    },
    {
      "cell_type": "markdown",
      "metadata": {
        "id": "EWuISl4sxY09"
      },
      "source": [
        "* During each iteration, we make $n-1$ comparisons \n",
        "* A total of $n-1$ iterations need to be made\n",
        "\n",
        "$$ (n-1)(n-1) = n^2 -2n + 1 $$\n",
        "\n",
        "Since we drop all terms but the dominant one, this leaves us with polynomial O($n^2$) time complexity for the worst case and the average case. (For more clever implementations, best case is O($n$) because array would already be sorted.)\n",
        "\n",
        "In contrast, as is typical in algos, there is a time- vs memory-complexity trade-off: Memory complexity is constant, O(1)."
      ]
    },
    {
      "cell_type": "code",
      "metadata": {
        "colab": {
          "base_uri": "https://localhost:8080/",
          "height": 17
        },
        "id": "yQi_Q2SpKkug",
        "outputId": "0e1290b3-e355-4be2-d01b-13ba85f742f0"
      },
      "source": [
        "def bubble_sort(array):\n",
        "\n",
        "    n = len(array)\n",
        "\n",
        "    start_array = array.copy()\n",
        "\n",
        "    print('List of length {:,}'.format(n))\n",
        "    print(\"max search count: {:,}\".format((n-1)*(n-1)))\n",
        "\n",
        "    switch_count = 0\n",
        "    for i in range(n-1):                # for the index of the array\n",
        "        for j in range(0, n-1):         # * see below\n",
        "            if array[j] > array[j+1]:   # if an element at j is greater than the next one\n",
        "                array[j], array[j+1] = array[j+1], array[j] # switch position between them. ## ** See below. \n",
        "                switch_count += 1\n",
        "    print('Sort completed after {:,} operations.'.format(switch_count))\n",
        "\n",
        "    print(start_array[:20])\n",
        "    print(array[:20])\n",
        "    return array\n",
        "\n",
        "# * could be n-i-1 as, e.g., top value is guaranteed to have bubbled up in 1st iteration.\n",
        "## ** The only line that require memory storage, pretty trivial amount. VEERRRY little memory footprint."
      ],
      "execution_count": null,
      "outputs": [
      ]
    },
    {
      "cell_type": "code",
      "metadata": {
        "colab": {
          "base_uri": "https://localhost:8080/",
          "height": 35
        },
        "id": "YiL18n-O48w6",
        "outputId": "721d761b-1014-4bea-ef3f-933cc52a2af4"
      },
      "source": [
        "tens = [10**n for n in range(1, 5)]\n",
        "fifties = [50*10**n for n in range(0, 4)]\n",
        "list_lengths = np.array(tens + fifties)\n",
        "list_lengths.sort()\n",
        "list_lengths"
      ],
      "execution_count": null,
      "outputs": [
        {
          "output_type": "execute_result",
          "data": {
            "text/plain": [
              "array([   10,    50,   100,   500,  1000,  5000, 10000, 50000])"
            ]
          },
          "metadata": {},
          "execution_count": 160
        }
      ]
    },
    {
      "cell_type": "code",
      "metadata": {
        "colab": {
          "base_uri": "https://localhost:8080/",
          "height": 1000
        },
        "id": "IH6JdtkIJivc",
        "outputId": "856f6177-610b-47eb-b934-8f8647ad0eda"
      },
      "source": [
        "list_times = []\n",
        "bubble_sort_times = []\n",
        "\n",
        "for length in list_lengths:\n",
        "\n",
        "    start = time.process_time()\n",
        "    array = [np.random.randint(0, 201) for integer in range(length)]\n",
        "    end = time.process_time()\n",
        "    list_times.append(end - start)\n",
        "\n",
        "    start = time.process_time()\n",
        "    bubble_sort(array)\n",
        "    end = time.process_time()\n",
        "    print(f'Runtime: {end - start} seconds\\n')\n",
        "    bubble_sort_times.append(end - start)"
      ],
      "execution_count": null,
      "outputs": [
        {
          "output_type": "stream",
          "name": "stdout",
          "text": [
            "List of length 10\n",
            "max search count: 81\n",
            "Sort completed after 19 operations.\n",
            "[17, 176, 44, 56, 29, 45, 42, 189, 178, 33]\n",
            "[17, 29, 33, 42, 44, 45, 56, 176, 178, 189]\n",
            "Runtime: 0.0014666010000041751 seconds\n",
            "\n",
            "List of length 50\n",
            "max search count: 2,401\n",
            "Sort completed after 551 operations.\n",
            "[63, 185, 13, 69, 94, 33, 140, 7, 7, 164, 191, 69, 3, 69, 46, 20, 83, 112, 54, 67]\n",
            "[1, 3, 3, 5, 6, 7, 7, 13, 19, 20, 33, 33, 46, 46, 52, 54, 63, 67, 69, 69]\n",
            "Runtime: 0.005315822000000026 seconds\n",
            "\n",
            "List of length 100\n",
            "max search count: 9,801\n",
            "Sort completed after 2,655 operations.\n",
            "[23, 129, 105, 151, 110, 76, 95, 157, 118, 101, 167, 169, 78, 193, 163, 118, 63, 183, 98, 74]\n",
            "[0, 1, 11, 13, 18, 22, 23, 23, 26, 32, 36, 36, 40, 44, 49, 52, 53, 53, 54, 56]\n",
            "Runtime: 0.004911046000017905 seconds\n",
            "\n",
            "List of length 500\n",
            "max search count: 249,001\n",
            "Sort completed after 61,112 operations.\n",
            "[60, 154, 53, 106, 112, 15, 19, 105, 14, 151, 107, 123, 33, 99, 33, 117, 16, 19, 116, 187]\n",
            "[0, 0, 1, 1, 1, 3, 3, 4, 5, 5, 5, 6, 7, 7, 7, 7, 7, 7, 8, 9]\n",
            "Runtime: 0.04318826399997988 seconds\n",
            "\n",
            "List of length 1,000\n",
            "max search count: 998,001\n",
            "Sort completed after 245,842 operations.\n",
            "[164, 153, 130, 98, 87, 104, 61, 8, 0, 80, 188, 93, 98, 55, 144, 103, 100, 127, 119, 38]\n",
            "[0, 0, 0, 0, 0, 1, 1, 1, 2, 2, 2, 2, 2, 2, 3, 3, 3, 3, 3, 4]\n",
            "Runtime: 0.20029599800000142 seconds\n",
            "\n",
            "List of length 5,000\n",
            "max search count: 24,990,001\n",
            "Sort completed after 6,218,631 operations.\n",
            "[138, 60, 69, 3, 34, 56, 181, 160, 147, 198, 183, 84, 189, 175, 185, 63, 79, 191, 112, 142]\n",
            "[0, 0, 0, 0, 0, 0, 0, 0, 0, 0, 0, 0, 0, 0, 0, 0, 0, 0, 0, 0]\n",
            "Runtime: 4.669451229999993 seconds\n",
            "\n",
            "List of length 10,000\n",
            "max search count: 99,980,001\n",
            "Sort completed after 24,805,282 operations.\n",
            "[49, 72, 132, 28, 143, 186, 179, 62, 30, 27, 119, 12, 8, 131, 183, 190, 52, 93, 82, 64]\n",
            "[0, 0, 0, 0, 0, 0, 0, 0, 0, 0, 0, 0, 0, 0, 0, 0, 0, 0, 0, 0]\n",
            "Runtime: 18.498605397000006 seconds\n",
            "\n",
            "List of length 50,000\n",
            "max search count: 2,499,900,001\n",
            "Sort completed after 622,712,107 operations.\n",
            "[184, 190, 89, 22, 65, 9, 192, 114, 25, 3, 18, 29, 89, 37, 173, 42, 14, 116, 105, 145]\n",
            "[0, 0, 0, 0, 0, 0, 0, 0, 0, 0, 0, 0, 0, 0, 0, 0, 0, 0, 0, 0]\n",
            "Runtime: 458.70340182700005 seconds\n",
            "\n"
          ]
        }
      ]
    },
    {
      "cell_type": "code",
      "metadata": {
        "colab": {
          "base_uri": "https://localhost:8080/",
          "height": 299
        },
        "id": "tfZOtPc7MDsZ",
        "outputId": "1faf1c21-fede-4d5d-97a8-d60cadfb111d"
      },
      "source": [
        "bubble_sort_times_df = pd.DataFrame(list(zip(list_lengths, bubble_sort_times)), columns=[\"length\", \"time\"])\n",
        "bubble_sort_times_df"
      ],
      "execution_count": null,
      "outputs": [
        {
          "output_type": "execute_result",
          "data": {
            "text/html": [
              "<div>\n",
              "<style scoped>\n",
              "    .dataframe tbody tr th:only-of-type {\n",
              "        vertical-align: middle;\n",
              "    }\n",
              "\n",
              "    .dataframe tbody tr th {\n",
              "        vertical-align: top;\n",
              "    }\n",
              "\n",
              "    .dataframe thead th {\n",
              "        text-align: right;\n",
              "    }\n",
              "</style>\n",
              "<table border=\"1\" class=\"dataframe\">\n",
              "  <thead>\n",
              "    <tr style=\"text-align: right;\">\n",
              "      <th></th>\n",
              "      <th>length</th>\n",
              "      <th>time</th>\n",
              "    </tr>\n",
              "  </thead>\n",
              "  <tbody>\n",
              "    <tr>\n",
              "      <th>0</th>\n",
              "      <td>10</td>\n",
              "      <td>0.001467</td>\n",
              "    </tr>\n",
              "    <tr>\n",
              "      <th>1</th>\n",
              "      <td>50</td>\n",
              "      <td>0.005316</td>\n",
              "    </tr>\n",
              "    <tr>\n",
              "      <th>2</th>\n",
              "      <td>100</td>\n",
              "      <td>0.004911</td>\n",
              "    </tr>\n",
              "    <tr>\n",
              "      <th>3</th>\n",
              "      <td>500</td>\n",
              "      <td>0.043188</td>\n",
              "    </tr>\n",
              "    <tr>\n",
              "      <th>4</th>\n",
              "      <td>1000</td>\n",
              "      <td>0.200296</td>\n",
              "    </tr>\n",
              "    <tr>\n",
              "      <th>5</th>\n",
              "      <td>5000</td>\n",
              "      <td>4.669451</td>\n",
              "    </tr>\n",
              "    <tr>\n",
              "      <th>6</th>\n",
              "      <td>10000</td>\n",
              "      <td>18.498605</td>\n",
              "    </tr>\n",
              "    <tr>\n",
              "      <th>7</th>\n",
              "      <td>50000</td>\n",
              "      <td>458.703402</td>\n",
              "    </tr>\n",
              "  </tbody>\n",
              "</table>\n",
              "</div>"
            ],
            "text/plain": [
              "   length        time\n",
              "0      10    0.001467\n",
              "1      50    0.005316\n",
              "2     100    0.004911\n",
              "3     500    0.043188\n",
              "4    1000    0.200296\n",
              "5    5000    4.669451\n",
              "6   10000   18.498605\n",
              "7   50000  458.703402"
            ]
          },
          "metadata": {},
          "execution_count": 181
        }
      ]
    },
    {
      "cell_type": "code",
      "metadata": {
        "colab": {
          "base_uri": "https://localhost:8080/",
          "height": 17
        },
        "id": "9dbQ-u7KQ1pb",
        "outputId": "0958a869-c4e2-41eb-f42f-2c12af806384"
      },
      "source": [
        "bubble_sort_times_df.to_csv(\"/content/here/MyDrive/Data and Algorithms/ALGO04/bubble_sort_times_df.csv\")"
      ],
      "execution_count": null,
      "outputs": [
      ]
    },
    {
      "cell_type": "code",
      "metadata": {
        "colab": {
          "base_uri": "https://localhost:8080/",
          "height": 455
        },
        "id": "ihi-7Tk35h29",
        "outputId": "5de8cd2b-1e1a-4110-f4e6-a82653cba9ed"
      },
      "source": [
        "# sns.set(rc={\"figure.figsize\":(10, 5)})\n",
        "sb.lmplot(x='length', y='time', data=bubble_sort_times_df, ci=None, order=2,\n",
        "          height=6, aspect=1.5)  # order=2 means polynomial...?"
      ],
      "execution_count": null,
      "outputs": [
        {
          "output_type": "execute_result",
          "data": {
            "text/plain": [
              "<seaborn.axisgrid.FacetGrid at 0x7f4baf566a10>"
            ]
          },
          "metadata": {},
          "execution_count": 179
        },
        {
          "output_type": "display_data",
          "data": {
            "image/png": "[encoded data removed]",
            "text/plain": [
              "<Figure size 648x432 with 1 Axes>"
            ]
          },
          "metadata": {}
        }
      ]
    },
    {
      "cell_type": "markdown",
      "metadata": {
        "id": "O3KHteJ9OshX"
      },
      "source": [
        "References\n",
        "\n",
        "My algorithm learning notebook following the live lesson series [**\"Data Structures, Algorithms, and Machine Learning Optimization\"**](https://learning.oreilly.com/videos/data-structures-algorithms/9780137644889/) by Dr. Jon Krohn. I adapted some and partially modified or added entirely new code. Notes largely based on and (some of them entirely) from Jon's notebooks and learning materials. The lesson and original notebook source code at:\n",
        "\n",
        "https://learning.oreilly.com/videos/data-structures-algorithms/9780137644889/\n",
        "https://github.com/jonkrohn/ML-foundations/blob/master/notebooks/7-algos-and-data-structures.ipynb"
      ]
    }
  ]
}
