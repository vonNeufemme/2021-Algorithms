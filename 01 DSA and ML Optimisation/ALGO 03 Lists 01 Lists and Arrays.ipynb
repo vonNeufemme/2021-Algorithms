{
  "nbformat": 4,
  "nbformat_minor": 0,
  "metadata": {
    "colab": {
      "name": "ALGO 03 Lists 01 Lists and Arrays.ipynb",
      "provenance": [],
      "collapsed_sections": []
    },
    "kernelspec": {
      "name": "python3",
      "display_name": "Python 3"
    },
    "language_info": {
      "name": "python"
    }
  },
  "cells": [
    {
      "cell_type": "markdown",
      "metadata": {
        "id": "3x9nq9P9guQD"
      },
      "source": [
        "# 3.1 Lists\n"
      ]
    },
    {
      "cell_type": "code",
      "metadata": {
        "id": "GLqAFM4Sj29v"
      },
      "source": [
        "lis = [np.random.randint(1, 101) for integer in range(30)]\n",
        "lis"
      ],
      "execution_count": null,
      "outputs": []
    },
    {
      "cell_type": "markdown",
      "metadata": {
        "id": "tpqTlYsL5gXm"
      },
      "source": [
        "## 1) Extensible\n",
        "Lists in Python are extensible"
      ]
    },
    {
      "cell_type": "code",
      "metadata": {
        "colab": {
          "base_uri": "https://localhost:8080/",
          "height": 35
        },
        "id": "AIDHe_575e2w",
        "outputId": "2cad39ef-bb03-48df-eee2-f470e904e249"
      },
      "source": [
        "lis.append(78)\n",
        "print(lis)"
      ],
      "execution_count": null,
      "outputs": [

        {
          "output_type": "stream",
          "name": "stdout",
          "text": [
            "[30, 98, 51, 41, 73, 79, 96, 72, 45, 31, 75, 87, 87, 79, 87, 50, 60, 59, 95, 95, 81, 12, 19, 18, 81, 28, 47, 40, 45, 14, 86, 86, 78]\n"
          ]
        }
      ]
    },
    {
      "cell_type": "markdown",
      "metadata": {
        "id": "5LgpkV-P6CmA"
      },
      "source": [
        "## 2) Math Operation NOT possible\n",
        "Unlike arrays..."
      ]
    },
    {
      "cell_type": "code",
      "metadata": {
        "colab": {
          "base_uri": "https://localhost:8080/",
          "height": 171
        },
        "id": "n9B9savJ8yCQ",
        "outputId": "93c2d94e-9cd7-434b-924d-0b87c61674d6"
      },
      "source": [
        "lis/2   # division operation fails."
      ],
      "execution_count": null,
      "outputs": [
        {
          "output_type": "error",
          "ename": "TypeError",
          "evalue": "ignored",
          "traceback": [
            "\u001b[0;31m---------------------------------------------------------------------------\u001b[0m",
            "\u001b[0;31mTypeError\u001b[0m                                 Traceback (most recent call last)",
            "\u001b[0;32m<ipython-input-31-a0699ddabd3c>\u001b[0m in \u001b[0;36m<module>\u001b[0;34m()\u001b[0m\n\u001b[0;32m----> 1\u001b[0;31m \u001b[0mlis\u001b[0m\u001b[0;34m/\u001b[0m\u001b[0;36m2\u001b[0m\u001b[0;34m\u001b[0m\u001b[0;34m\u001b[0m\u001b[0m\n\u001b[0m",
            "\u001b[0;31mTypeError\u001b[0m: unsupported operand type(s) for /: 'list' and 'int'"
          ]
        }
      ]
    },
    {
      "cell_type": "markdown",
      "metadata": {
        "id": "rrVFN66LkSKC"
      },
      "source": [
        "# 3.2 Arrays\n",
        "\n",
        "- A special type of lists that we can:\n",
        "  - apply mathematical operations to\n",
        "- Used extensively in ML\n",
        "- Most important data structure in ML. Commonly used for:\n",
        "- Limitations:\n",
        "  - all elements are of same data type\n",
        "  - Most often numeric in ML\n"
      ]
    },
    {
      "cell_type": "code",
      "metadata": {
        "id": "8YlLDowrkTM7",
        "colab": {
          "base_uri": "https://localhost:8080/",
          "height": 265
        },
        "outputId": "157e5e26-863b-4271-ed85-4cc9298be800"
      },
      "source": [
        "sticky_notes(notes1, fontFace=cv2.FONT_HERSHEY_SIMPLEX, fontScale=0.45)"
      ],
      "execution_count": null,
      "outputs": [
      ]
    },
    {
      "cell_type": "code",
      "metadata": {
        "colab": {
          "base_uri": "https://localhost:8080/",
          "height": 54
        },
        "id": "f-7fGjug8gUd",
        "outputId": "5fd8cdea-99b5-4e61-d44b-c46b12814e07"
      },
      "source": [
        "x = np.array([np.random.randint(50, 151) for integer in range(30)])\n",
        "print(type(x), x)"
      ],
      "execution_count": null,
      "outputs": [
        {
          "output_type": "stream",
          "name": "stdout",
          "text": [
            "<class 'numpy.ndarray'> [ 95 111  86 133  66  70  61 146  82 141 145 143  67  83  78 103  60 138\n",
            "  64 118 143 132 137  98  51 132 138 133  92 149]\n"
          ]
        }
      ]
    },
    {
      "cell_type": "markdown",
      "metadata": {
        "id": "30zkjZlg9j35"
      },
      "source": [
        "## 1) Math operation possible"
      ]
    },
    {
      "cell_type": "code",
      "metadata": {
        "colab": {
          "base_uri": "https://localhost:8080/",
          "height": 72
        },
        "id": "9-6e-jLW8gGw",
        "outputId": "b93dd8ca-da2d-4696-aa78-491fc9085075"
      },
      "source": [
        "# division succssful\n",
        "x / 2"
      ],
      "execution_count": null,
      "outputs": [
        {
          "output_type": "execute_result",
          "data": {
            "text/plain": [
              "array([47.5, 55.5, 43. , 66.5, 33. , 35. , 30.5, 73. , 41. , 70.5, 72.5,\n",
              "       71.5, 33.5, 41.5, 39. , 51.5, 30. , 69. , 32. , 59. , 71.5, 66. ,\n",
              "       68.5, 49. , 25.5, 66. , 69. , 66.5, 46. , 74.5])"
            ]
          },
          "metadata": {},
          "execution_count": 32
        }
      ]
    },
    {
      "cell_type": "code",
      "metadata": {
        "colab": {
          "base_uri": "https://localhost:8080/",
          "height": 54
        },
        "id": "U7dB9VD08gAg",
        "outputId": "367f7523-4c8c-4a1e-c0b7-c50a1aa5cc48"
      },
      "source": [
        "r1 = np.random.randint(20, 121, 3)\n",
        "r2 = np.random.randint(20, 121, 3)\n",
        "y = torch.tensor([r1*3, r2*3])\n",
        "y"
      ],
      "execution_count": null,
      "outputs": [
        {
          "output_type": "execute_result",
          "data": {
            "text/plain": [
              "tensor([[291, 198, 285],\n",
              "        [255, 105, 186]])"
            ]
          },
          "metadata": {},
          "execution_count": 39
        }
      ]
    },
    {
      "cell_type": "markdown",
      "metadata": {
        "id": "XZ-4eAQi9p0Z"
      },
      "source": [
        "## 2) N-dimensional"
      ]
    },
    {
      "cell_type": "markdown",
      "metadata": {
        "id": "1sTYxdsW_TQc"
      },
      "source": [
        "### 2D"
      ]
    },
    {
      "cell_type": "code",
      "metadata": {
        "colab": {
          "base_uri": "https://localhost:8080/",
          "height": 35
        },
        "id": "2Aus1eZ19v6Q",
        "outputId": "3b9f1947-7326-4ebe-9724-0a7da7266ded"
      },
      "source": [
        "y.shape"
      ],
      "execution_count": null,
      "outputs": [
        {
          "output_type": "execute_result",
          "data": {
            "text/plain": [
              "torch.Size([2, 3])"
            ]
          },
          "metadata": {},
          "execution_count": 40
        }
      ]
    },
    {
      "cell_type": "code",
      "metadata": {
        "colab": {
          "base_uri": "https://localhost:8080/",
          "height": 35
        },
        "id": "oQax4fA49-7G",
        "outputId": "016ac32b-5351-4715-87f1-b339302d1c5b"
      },
      "source": [
        "y[1, 2]"
      ],
      "execution_count": null,
      "outputs": [
        {
          "output_type": "execute_result",
          "data": {
            "text/plain": [
              "tensor(186)"
            ]
          },
          "metadata": {},
          "execution_count": 42
        }
      ]
    },
    {
      "cell_type": "code",
      "metadata": {
        "colab": {
          "base_uri": "https://localhost:8080/",
          "height": 54
        },
        "id": "inHmzD3I-D24",
        "outputId": "f77a14aa-bbd8-4083-c1a2-58fe9df08668"
      },
      "source": [
        "# mathematical operation possible on n-dimensional array\n",
        "y / 3"
      ],
      "execution_count": null,
      "outputs": [
        {
          "output_type": "execute_result",
          "data": {
            "text/plain": [
              "tensor([[97., 66., 95.],\n",
              "        [85., 35., 62.]])"
            ]
          },
          "metadata": {},
          "execution_count": 43
        }
      ]
    },
    {
      "cell_type": "markdown",
      "metadata": {
        "id": "MZYFKIr3_UhJ"
      },
      "source": [
        "### 3D"
      ]
    },
    {
      "cell_type": "code",
      "metadata": {
        "colab": {
          "base_uri": "https://localhost:8080/",
          "height": 126
        },
        "id": "eggHsu6x-Sm1",
        "outputId": "3a67556a-43e9-463f-8c1e-72504bd91cf2"
      },
      "source": [
        "r3 = np.random.randint(20, 121, 2)\n",
        "r4 = np.random.randint(20, 121, 2)\n",
        "\n",
        "z = tf.Variable([[r3, r4],\n",
        "                 [r3*2.5, r4*7]])\n",
        "z"
      ],
      "execution_count": null,
      "outputs": [
        {
          "output_type": "execute_result",
          "data": {
            "text/plain": [
              "<tf.Variable 'Variable:0' shape=(2, 2, 2) dtype=float32, numpy=\n",
              "array([[[ 79. ,  52. ],\n",
              "        [ 59. ,  79. ]],\n",
              "\n",
              "       [[197.5, 130. ],\n",
              "        [413. , 553. ]]], dtype=float32)>"
            ]
          },
          "metadata": {},
          "execution_count": 50
        }
      ]
    },
    {
      "cell_type": "code",
      "metadata": {
        "colab": {
          "base_uri": "https://localhost:8080/",
          "height": 35
        },
        "id": "PzUMdG9C_RM2",
        "outputId": "a98b7adb-e024-4e27-f34b-fb335619acaa"
      },
      "source": [
        "z[0, 1, 1]"
      ],
      "execution_count": null,
      "outputs": [
        {
          "output_type": "execute_result",
          "data": {
            "text/plain": [
              "<tf.Tensor: shape=(), dtype=float32, numpy=79.0>"
            ]
          },
          "metadata": {},
          "execution_count": 51
        }
      ]
    },
    {
      "cell_type": "markdown",
      "metadata": {
        "id": "bWPkTOjW_sGP"
      },
      "source": [
        "## 3) Extensible \n",
        "`.append()`\n",
        "- It is efficient ($O(1)$) to append items to end of list."
      ]
    },
    {
      "cell_type": "code",
      "metadata": {
        "colab": {
          "base_uri": "https://localhost:8080/",
          "height": 72
        },
        "id": "3afCbMm4_yi4",
        "outputId": "cadef9b3-708e-46c1-d4be-48f315fcc870"
      },
      "source": [
        "np.append(x, 743)"
      ],
      "execution_count": null,
      "outputs": [
        {
          "output_type": "execute_result",
          "data": {
            "text/plain": [
              "array([ 95, 111,  86, 133,  66,  70,  61, 146,  82, 141, 145, 143,  67,\n",
              "        83,  78, 103,  60, 138,  64, 118, 143, 132, 137,  98,  51, 132,\n",
              "       138, 133,  92, 149, 743])"
            ]
          },
          "metadata": {},
          "execution_count": 57
        }
      ]
    },
    {
      "cell_type": "code",
      "metadata": {
        "colab": {
          "base_uri": "https://localhost:8080/",
          "height": 265
        },
        "id": "CnHe971dAYwi",
        "outputId": "0e3f86c7-f825-4d8b-a222-f294b3dbfc8d"
      },
      "source": [
        "sticky_notes(notes2, fontFace=cv2.FONT_HERSHEY_SIMPLEX, fontScale=0.45)"
      ],
      "execution_count": null,
      "outputs": [
        {
          "output_type": "display_data",
          "data": {
            "image/png": "[encoded data removed]",
            "text/plain": [
              "<PIL.Image.Image image mode=RGB size=476x248 at 0x7FA72C373F90>"
            ]
          },
          "metadata": {}
        }
      ]
    },
    {
      "cell_type": "markdown",
      "metadata": {
        "id": "O3KHteJ9OshX"
      },
      "source": [
        "References\n",
        "\n",
        "My algorithm learning notebook following the live lesson series [**\"Data Structures, Algorithms, and Machine Learning Optimization\"**](https://learning.oreilly.com/videos/data-structures-algorithms/9780137644889/) by Dr. Jon Krohn. I adapted some and partially modified or added entirely new code. Notes largely based on and (some of them entirely) from Jon's notebooks and learning materials. The lesson and original notebook source code at:\n",
        "\n",
        "https://learning.oreilly.com/videos/data-structures-algorithms/9780137644889/\n",
        "https://github.com/jonkrohn/ML-foundations/blob/master/notebooks/7-algos-and-data-structures.ipynb"
      ]
    }
  ]
}
