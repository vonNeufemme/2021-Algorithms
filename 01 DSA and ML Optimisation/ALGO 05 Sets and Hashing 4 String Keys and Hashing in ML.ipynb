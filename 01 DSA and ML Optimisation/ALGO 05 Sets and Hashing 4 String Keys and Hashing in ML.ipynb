{
  "nbformat": 4,
  "nbformat_minor": 0,
  "metadata": {
    "colab": {
      "name": "ALGO 05 Sets and Hashing 4 String Keys and Hashing in ML",
      "provenance": [],
      "collapsed_sections": []
    },
    "kernelspec": {
      "name": "python3",
      "display_name": "Python 3"
    },
    "language_info": {
      "name": "python"
    }
  },
  "cells": [
    {
      "cell_type": "markdown",
      "metadata": {
        "id": "vPgjW2NO3nxh"
      },
      "source": [
        "## References\n",
        "\n",
        "My algorithm learning notebook following the live lesson series [**\"Data Structures, Algorithms, and Machine Learning Optimization\"**](https://learning.oreilly.com/videos/data-structures-algorithms/9780137644889/) by Dr. Jon Krohn. I adapted some and partially modified or added entirely new code. Notes largely based on and (some of them entirely) from Jon's notebooks and learning materials. The lesson and original notebook source code at:\n",
        "\n",
        "https://learning.oreilly.com/videos/data-structures-algorithms/9780137644889/\n",
        "https://github.com/jonkrohn/ML-foundations/blob/master/notebooks/7-algos-and-data-structures.ipynb"
      ]
    },
    {
      "cell_type": "markdown",
      "metadata": {
        "id": "-iQOFLLdv7Nx"
      },
      "source": [
        "# 5.7 String Keys\n",
        "\n",
        "ASCII Table https://www.asciitable.com/\n"
      ]
    },
    {
      "cell_type": "code",
      "metadata": {
        "id": "h6O_4jT6HybH"
      },
      "source": [
        ""
      ],
      "execution_count": null,
      "outputs": []
    },
    {
      "cell_type": "markdown",
      "metadata": {
        "id": "W96xjTc5L0_n"
      },
      "source": [
        "# 5.8 Hashing in ML\n",
        "\n",
        "1) Integer-string maps in NLP  \n",
        "2) Efficiently loading large training dataset  \n",
        "3) Any production data access\n",
        "- Use instead of arrays\n",
        "- cached, pre-computed features\n",
        "4) For data preparation steps \n",
        "- work on data asynchronously\n",
        "\n",
        "\"*we can store all of those cached values in a hash map and then in production, we can access these pre-computed features lickety-split in that hash map. And so we can have very computationally complex results show up in real time instantly.*\""
      ]
    }
  ]
}
