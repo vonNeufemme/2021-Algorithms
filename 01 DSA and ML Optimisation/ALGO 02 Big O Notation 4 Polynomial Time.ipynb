{
  "nbformat": 4,
  "nbformat_minor": 0,
  "metadata": {
    "colab": {
      "name": "ALGO 02 Big O Notation 4 Polynomial Time.ipynb",
      "provenance": [],
      "collapsed_sections": []
    },
    "kernelspec": {
      "name": "python3",
      "display_name": "Python 3"
    },
    "language_info": {
      "name": "python"
    }
  },
  "cells": [
    {
      "cell_type": "markdown",
      "metadata": {
        "id": "Ts_jmQfyXD7K"
      },
      "source": [
        "# 2.4 Polynomial Time"
      ]
    },
    {
      "cell_type": "code",
      "metadata": {
        "colab": {
          "base_uri": "https://localhost:8080/",
          "height": 17
        },
        "id": "QkzN-53N2GkI",
        "outputId": "e92cbb68-3eb6-42c6-cc49-81c231ad4c9a"
      },
      "source": [
        "def element_multiplier(my_list):\n",
        "    for i in range(len(my_list)):\n",
        "        for j in range(len(my_list)):\n",
        "            x = my_list[i] * my_list[j]"
      ],
      "execution_count": null,
      "outputs": [
      ]
    },
    {
      "cell_type": "code",
      "metadata": {
        "colab": {
          "base_uri": "https://localhost:8080/",
          "height": 35
        },
        "id": "xKVTaMjBBMNA",
        "outputId": "bbbb0f7d-cb20-45bb-bd2f-1ef41073bdd8"
      },
      "source": [
        "list_lengths = [10**exponent for exponent in range(1, 9)]\n",
        "demo_lengths = list_lengths[:4] + [50, 500, 5000, 50000]\n",
        "demo_lengths.sort()\n",
        "demo_lengths"
      ],
      "execution_count": null,
      "outputs": [
        {
          "output_type": "execute_result",
          "data": {
            "text/plain": [
              "[10, 50, 100, 500, 1000, 5000, 10000, 50000]"
            ]
          },
          "metadata": {},
          "execution_count": 93
        }
      ]
    },
    {
      "cell_type": "code",
      "metadata": {
        "colab": {
          "base_uri": "https://localhost:8080/",
          "height": 454
        },
        "id": "ItObRbCIA6Hf",
        "outputId": "e8570ae2-7f52-47af-909c-892df6f8d41f"
      },
      "source": [
        "poly_times = []\n",
        "\n",
        "for length in demo_lengths:\n",
        "    start = time.process_time()\n",
        "    random_list = [np.random.randint(1, 100) for random_integer in range(length)]\n",
        "    end = time.process_time()\n",
        "    print('Runtime for generating list of length {:,}: {} seconds'.format(length, (end-start)))    \n",
        "    \n",
        "    start = time.process_time()\n",
        "    element_multiplier(random_list)\n",
        "    end = time.process_time()\n",
        "    poly_times.append(end - start)\n",
        "    print('Runetime for double for loop multiplication of {:,} elements: {} seconds\\n'.format(length, (end-start)))"
      ],
      "execution_count": null,
      "outputs": [
        {
          "output_type": "stream",
          "name": "stdout",
          "text": [
            "Runtime for generating list of length 10: 8.899699997755306e-05 seconds\n",
            "Runetime for double for loop multiplication of 10 elements: 2.879100003383428e-05 seconds\n",
            "\n",
            "Runtime for generating list of length 50: 0.00019711700002744692 seconds\n",
            "Runetime for double for loop multiplication of 50 elements: 0.00031603700000459867 seconds\n",
            "\n",
            "Runtime for generating list of length 100: 0.0003917200000387311 seconds\n",
            "Runetime for double for loop multiplication of 100 elements: 0.001059822999991411 seconds\n",
            "\n",
            "Runtime for generating list of length 500: 0.0016711119999968105 seconds\n",
            "Runetime for double for loop multiplication of 500 elements: 0.029305620000002364 seconds\n",
            "\n",
            "Runtime for generating list of length 1,000: 0.0032874880000122175 seconds\n",
            "Runetime for double for loop multiplication of 1,000 elements: 0.11033587200000738 seconds\n",
            "\n",
            "Runtime for generating list of length 5,000: 0.015704298000002836 seconds\n",
            "Runetime for double for loop multiplication of 5,000 elements: 2.7242750959999853 seconds\n",
            "\n",
            "Runtime for generating list of length 10,000: 0.03166304199999104 seconds\n",
            "Runetime for double for loop multiplication of 10,000 elements: 10.918689437000012 seconds\n",
            "\n",
            "Runtime for generating list of length 50,000: 0.14804669300002615 seconds\n",
            "Runetime for double for loop multiplication of 50,000 elements: 273.756655944 seconds\n",
            "\n"
          ]
        }
      ]
    },
    {
      "cell_type": "code",
      "metadata": {
        "colab": {
          "base_uri": "https://localhost:8080/",
          "height": 299
        },
        "id": "bHVPbFP4Aby2",
        "outputId": "a74e5211-29f9-49f6-8bd9-7815792fe18f"
      },
      "source": [
        "polytime = pd.read_csv(\"/content/here/MyDrive/Data and Algorithms/ALGO02/polytime.cvs\")\n",
        "polytime"
      ],
      "execution_count": null,
      "outputs": [
        {
          "output_type": "execute_result",
          "data": {
            "text/html": [
              "<div>\n",
              "<style scoped>\n",
              "    .dataframe tbody tr th:only-of-type {\n",
              "        vertical-align: middle;\n",
              "    }\n",
              "\n",
              "    .dataframe tbody tr th {\n",
              "        vertical-align: top;\n",
              "    }\n",
              "\n",
              "    .dataframe thead th {\n",
              "        text-align: right;\n",
              "    }\n",
              "</style>\n",
              "<table border=\"1\" class=\"dataframe\">\n",
              "  <thead>\n",
              "    <tr style=\"text-align: right;\">\n",
              "      <th></th>\n",
              "      <th>Unnamed: 0</th>\n",
              "      <th>length</th>\n",
              "      <th>time</th>\n",
              "    </tr>\n",
              "  </thead>\n",
              "  <tbody>\n",
              "    <tr>\n",
              "      <th>0</th>\n",
              "      <td>0</td>\n",
              "      <td>10</td>\n",
              "      <td>0.000025</td>\n",
              "    </tr>\n",
              "    <tr>\n",
              "      <th>1</th>\n",
              "      <td>1</td>\n",
              "      <td>50</td>\n",
              "      <td>0.000278</td>\n",
              "    </tr>\n",
              "    <tr>\n",
              "      <th>2</th>\n",
              "      <td>2</td>\n",
              "      <td>100</td>\n",
              "      <td>0.001071</td>\n",
              "    </tr>\n",
              "    <tr>\n",
              "      <th>3</th>\n",
              "      <td>3</td>\n",
              "      <td>500</td>\n",
              "      <td>0.029622</td>\n",
              "    </tr>\n",
              "    <tr>\n",
              "      <th>4</th>\n",
              "      <td>4</td>\n",
              "      <td>1000</td>\n",
              "      <td>0.106625</td>\n",
              "    </tr>\n",
              "    <tr>\n",
              "      <th>5</th>\n",
              "      <td>5</td>\n",
              "      <td>5000</td>\n",
              "      <td>2.743423</td>\n",
              "    </tr>\n",
              "    <tr>\n",
              "      <th>6</th>\n",
              "      <td>6</td>\n",
              "      <td>10000</td>\n",
              "      <td>10.892969</td>\n",
              "    </tr>\n",
              "    <tr>\n",
              "      <th>7</th>\n",
              "      <td>7</td>\n",
              "      <td>50000</td>\n",
              "      <td>276.775238</td>\n",
              "    </tr>\n",
              "  </tbody>\n",
              "</table>\n",
              "</div>"
            ],
            "text/plain": [
              "   Unnamed: 0  length        time\n",
              "0           0      10    0.000025\n",
              "1           1      50    0.000278\n",
              "2           2     100    0.001071\n",
              "3           3     500    0.029622\n",
              "4           4    1000    0.106625\n",
              "5           5    5000    2.743423\n",
              "6           6   10000   10.892969\n",
              "7           7   50000  276.775238"
            ]
          },
          "metadata": {},
          "execution_count": 80
        }
      ]
    },
    {
      "cell_type": "code",
      "metadata": {
        "colab": {
          "base_uri": "https://localhost:8080/",
          "height": 387
        },
        "id": "p2yDoHN-3UIJ",
        "outputId": "ff5f69e1-7675-48ae-8268-9d049dc45ac6"
      },
      "source": [
        "sb.lmplot(x='length', y='time', data=polytime, ci=None, order=2)"
      ],
      "execution_count": null,
      "outputs": [
        {
          "output_type": "execute_result",
          "data": {
            "text/plain": [
              "<seaborn.axisgrid.FacetGrid at 0x7fbaec200f90>"
            ]
          },
          "metadata": {},
          "execution_count": 89
        },
        {
          "output_type": "display_data",
          "data": {
            "image/png": "[encoded data removed]",
            "text/plain": [
              "<Figure size 360x360 with 1 Axes>"
            ]
          },
          "metadata": {
            "needs_background": "light"
          }
        }
      ]
    },
    {
      "cell_type": "markdown",
      "metadata": {
        "id": "elxDS14MZjIH"
      },
      "source": [
        "# Important Functions\n",
        "\n",
        "- `sns.lmplot(x='n', y='time', data=dataset, ci=None)`\n",
        "  - lmplot = linear model (regression) plot\n",
        "  - ci: confidence intreval\n",
        "- `pd.DataFrame(list(zip(list1, list2, ..., list_n))`\n",
        "  - `list(zip(item1, item2 ... item_n))`\n",
        "- `time.process_time()`"
      ]
    },
    {
      "cell_type": "markdown",
      "metadata": {
        "id": "I52Fdf2AMV1Z"
      },
      "source": [
        "References\n",
        "\n",
        "My algorithm learning notebook following the live lesson series [**\"Data Structures, Algorithms, and Machine Learning Optimization\"**](https://learning.oreilly.com/videos/data-structures-algorithms/9780137644889/) by Dr. Jon Krohn. I adapted some and partially modified or added entirely new code. Notes largely based on and (some of them entirely) from Jon's notebooks and learning materials. The lesson and original notebook source code at:\n",
        "\n",
        "https://learning.oreilly.com/videos/data-structures-algorithms/9780137644889/\n",
        "https://github.com/jonkrohn/ML-foundations/blob/master/notebooks/7-algos-and-data-structures.ipynb"
      ]
    }
  ]
}
