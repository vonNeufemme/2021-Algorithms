{
  "nbformat": 4,
  "nbformat_minor": 0,
  "metadata": {
    "colab": {
      "name": "ALGO 04 Search and Sort 4 Quick  Sort",
      "provenance": [],
      "collapsed_sections": []
    },
    "kernelspec": {
      "name": "python3",
      "display_name": "Python 3"
    },
    "language_info": {
      "name": "python"
    }
  },
  "cells": [
    {
      "cell_type": "markdown",
      "metadata": {
        "id": "vPgjW2NO3nxh"
      },
      "source": [
        "## References\n",
        "\n",
        "My algorithm learning notebook following the live lesson series [**\"Data Structures, Algorithms, and Machine Learning Optimization\"**](https://learning.oreilly.com/videos/data-structures-algorithms/9780137644889/) by Dr. Jon Krohn. I adapted some and partially modified or added entirely new code. Notes largely based on and (some of them entirely) from Jon's notebooks and learning materials. The lesson and original notebook source code at:\n",
        "\n",
        "https://learning.oreilly.com/videos/data-structures-algorithms/9780137644889/\n",
        "https://github.com/jonkrohn/ML-foundations/blob/master/notebooks/7-algos-and-data-structures.ipynb"
      ]
    },
    {
      "cell_type": "markdown",
      "metadata": {
        "id": "-iQOFLLdv7Nx"
      },
      "source": [
        "# Searching & Sorting\n",
        "- Not frequent in ML however:\n",
        "  - Examplary to demo: \n",
        "    - Time complexity\n",
        "    - Space complexity\n",
        "    - Tyipcal time/space tradeoff\n",
        "  - Helpful for ML pipelines:\n",
        "    - Data Capture\n",
        "    - Preprocessing\n",
        "    - Training\n",
        "    - Deployment\n",
        "\n",
        "Exerpt from [Dr Krohn's notebook **7-algos-and-data-structures.ipynb**](https://colab.research.google.com/github/jonkrohn/ML-foundations/blob/master/notebooks/7-algos-and-data-structures.ipynb#scrollTo=d4tBvI88BheF)"
      ]
    },
    {
      "cell_type": "markdown",
      "metadata": {
        "id": "Fvqg1lo_9PU5"
      },
      "source": [
        "# 4.4 Quick Sort\n",
        "- `Pivot` point\n",
        "- Start from the last and move the `pivot` in the array \n",
        "- The moving of the `pivot` occurs element by element.\n",
        "    - All the values below the `pivot` are smaller than the `pivot`.\n",
        "    - All the values above the `pivot` are greater than the `pivot`."
      ]
    },
    {
      "cell_type": "markdown",
      "metadata": {
        "id": "5HgYweYl3VIt"
      },
      "source": [
        "## Quick Sort Algorithm"
      ]
    },
    {
      "cell_type": "code",
      "metadata": {
        "colab": {
          "base_uri": "https://localhost:8080/",
          "height": 17
        },
        "id": "vNPVTKW9gkXn",
        "outputId": "c01730cc-2c5e-45ec-8d1f-4fdbe957cd3b"
      },
      "source": [
        "def quick_sort(array):\n",
        "    _quick_sort(array, 0, len(array)-1) # to start, low is index of first element in array; high is penultimate\n",
        "    return array"
      ],
      "execution_count": null,
      "outputs": [
      ]
    },
    {
      "cell_type": "code",
      "metadata": {
        "colab": {
          "base_uri": "https://localhost:8080/",
          "height": 17
        },
        "id": "YAcc_vjJ3hU-",
        "outputId": "e46a22d8-7a31-4ad5-8963-2fcdf503ae68"
      },
      "source": [
        "def _quick_sort(array, low, high): \n",
        "    \n",
        "    if low < high: # when low reaches high, we know all elements in array must be in order\n",
        "        \n",
        "        # Result of 2.: Element at \"partitioning index\" has been pivoted to its correct position\n",
        "        p_index = partition(array, low, high) \n",
        "        \n",
        "        # 3. Recursively sort the elements below the partitioning index...\n",
        "        _quick_sort(array, low, p_index-1)\n",
        "        # ...and, separately, above the partitioning index: \n",
        "        _quick_sort(array, p_index+1, high)\n",
        "        \n",
        "    return array"
      ],
      "execution_count": null,
      "outputs": [
      ]
    },
    {
      "cell_type": "code",
      "metadata": {
        "colab": {
          "base_uri": "https://localhost:8080/",
          "height": 17
        },
        "id": "JjUqZykS4Tx2",
        "outputId": "98bbbde4-cc88-4c04-910b-3a4fe0393daa"
      },
      "source": [
        "def partition(array, low, high):\n",
        "    \n",
        "    # 1. Use the final element as the pivot:\n",
        "    pivot = array[high]\n",
        "    \n",
        "    i = (low-1) # index of element on small side\n",
        "    for j in range(low, high): # like a bubble swap, we compare pivot to all elements between low and high\n",
        "        if array[j] < pivot: # if value < pivot, it's correctly on left so increment the smaller element's index...\n",
        "            i = i+1\n",
        "            array[i], array[j] = array[j], array[i] \n",
        "    array[i+1], array[high] = array[high], array[i+1] # ...otherwise, swap greater value to right of pivot (now what we want)\n",
        "    return(i+1) # return index of correctly positioned pivot"
      ],
      "execution_count": null,
      "outputs": [
      ]
    },
    {
      "cell_type": "code",
      "metadata": {
        "colab": {
          "base_uri": "https://localhost:8080/",
          "height": 17
        },
        "id": "6UyBk96X4pDU",
        "outputId": "8a194d21-26d8-4bd1-e274-6d20117ad07f"
      },
      "source": [
        "b = np.array([25, 2, 5, 14, 22, 11, 96, 1, 101])"
      ],
      "execution_count": null,
      "outputs": [
      ]
    },
    {
      "cell_type": "code",
      "metadata": {
        "colab": {
          "base_uri": "https://localhost:8080/",
          "height": 35
        },
        "id": "y5-46RLY4q9b",
        "outputId": "87f02ee4-ab2e-45d6-e15e-3acf92b2ccae"
      },
      "source": [
        "quick_sort(b)"
      ],
      "execution_count": null,
      "outputs": [
        {
          "output_type": "execute_result",
          "data": {
            "text/plain": [
              "array([  1,   2,   5,  11,  14,  22,  25,  96, 101])"
            ]
          },
          "metadata": {},
          "execution_count": 291
        }
      ]
    },
    {
      "cell_type": "code",
      "metadata": {
        "colab": {
          "base_uri": "https://localhost:8080/",
          "height": 17
        },
        "id": "3PVZvPFF4xn_",
        "outputId": "bd945134-1a5d-4b87-95df-6df4864e5978"
      },
      "source": [
        "list_lengths = [10, 100, 1000, 10000, 100000, 1000000, 10000000]"
      ],
      "execution_count": null,
      "outputs": [
      ]
    },
    {
      "cell_type": "code",
      "metadata": {
        "colab": {
          "base_uri": "https://localhost:8080/",
          "height": 563
        },
        "id": "SrxPJEpw42Ce",
        "outputId": "b8a7f152-4c85-4ce6-b4cd-8f862bbd6a8e"
      },
      "source": [
        "quick_times = []\n",
        "\n",
        "for length in list_lengths:\n",
        "    sample_list = random.sample(range(0, max(list_lengths)), length) # create a list of (length) samples ranging 0 - max().\n",
        "    \n",
        "    print(\"Quick sort {:,} items\".format(length))\n",
        "    start = time.process_time()\n",
        "    x = quick_sort(sample_list)\n",
        "    end = time.process_time()\n",
        "    print(f\"Runtime: {end - start} seconds\")\n",
        "    print(f\"Sorted items: {x[:20]}\\n\")\n",
        "\n",
        "    quick_times.append(end - start)"
      ],
      "execution_count": null,
      "outputs": [
        {
          "output_type": "stream",
          "name": "stdout",
          "text": [
            "Quick sort 10 items\n",
            "Runtime: 0.01987726000004386 seconds\n",
            "Sorted items: [245625, 1320178, 2337453, 3730571, 5601013, 6485303, 6974068, 7927147, 9237285, 9816911]\n",
            "\n",
            "Quick sort 100 items\n",
            "Runtime: 0.0002373089999991862 seconds\n",
            "Sorted items: [13024, 44515, 50453, 64871, 207633, 291821, 367844, 577949, 804230, 815025, 1044347, 1347411, 1456732, 1490716, 1855704, 1950889, 2021048, 2129953, 2156967, 2238109]\n",
            "\n",
            "Quick sort 1,000 items\n",
            "Runtime: 0.002667165000048044 seconds\n",
            "Sorted items: [6392, 13165, 62263, 66011, 85475, 89465, 97354, 114584, 117836, 124166, 127854, 129660, 148242, 153674, 156739, 179643, 206299, 211749, 246282, 253742]\n",
            "\n",
            "Quick sort 10,000 items\n",
            "Runtime: 0.038440039999954934 seconds\n",
            "Sorted items: [291, 606, 2782, 4069, 4175, 4617, 6646, 8249, 8590, 8603, 8797, 9408, 9726, 10088, 11854, 12728, 13250, 14004, 17362, 18475]\n",
            "\n",
            "Quick sort 100,000 items\n",
            "Runtime: 0.5208489070000724 seconds\n",
            "Sorted items: [83, 318, 427, 428, 677, 889, 1043, 1246, 1655, 1687, 1730, 1832, 2045, 2077, 2165, 2251, 2384, 2453, 2501, 2581]\n",
            "\n",
            "Quick sort 1,000,000 items\n",
            "Runtime: 6.3699340580000126 seconds\n",
            "Sorted items: [10, 36, 72, 80, 110, 140, 143, 162, 180, 183, 184, 185, 188, 210, 214, 219, 222, 227, 234, 241]\n",
            "\n",
            "Quick sort 10,000,000 items\n",
            "Runtime: 74.93919959000004 seconds\n",
            "Sorted items: [0, 1, 2, 3, 4, 5, 6, 7, 8, 9, 10, 11, 12, 13, 14, 15, 16, 17, 18, 19]\n",
            "\n"
          ]
        }
      ]
    },
    {
      "cell_type": "markdown",
      "metadata": {
        "id": "0UazNQtze4N_"
      },
      "source": [
        "## Mathematical Explanation"
      ]
    },
    {
      "cell_type": "markdown",
      "metadata": {
        "id": "0atF1uRU7rX7"
      },
      "source": [
        "**Average-case time**: The efficiency of quick sort comes from moving lower-valued pivots toward the front (ideally to the midpoint) of the array then \"dividing and conquering\" on either side of the pivot. In which case (the average case), quick sort behaves like a merge sort (thereby it has O($n$ log $n$) time complexity), but in a manner that requires only a single copy of the array in memory.\n",
        "\n",
        "**Worst-case time**: With the pivot starting at the final element, if the array is already sorted, this is the worst case. There will be as many calls to `quick_sort()` as there are elements in the array (i.e., $n$ calls) and quick sort will perform a full round of bubble sorting (as per the `for j in range` loop) during each of those (i.e., $n-1$ comparisons); the product of these resulting in O($n^2$) time complexity. So, don't use quick sort if the array is nearly in order! \n",
        "\n",
        "**Best-case time**: If all values in the array are equal, quick sort will scan over them all once to confirm this, in which case it has O($n$) time complexity. The more values that are equal in the array, the closer to O($n$) performance will be.\n",
        "\n",
        "Exerpt from [Dr Krohn's notebook **7-algos-and-data-structures.ipynb**](https://colab.research.google.com/github/jonkrohn/ML-foundations/blob/master/notebooks/7-algos-and-data-structures.ipynb#scrollTo=d4tBvI88BheF)"
      ]
    },
    {
      "cell_type": "markdown",
      "metadata": {
        "id": "Piim-TG47L8h"
      },
      "source": [
        "## Quick Sort Time Complexity"
      ]
    },
    {
      "cell_type": "code",
      "metadata": {
        "colab": {
          "base_uri": "https://localhost:8080/",
          "height": 236
        },
        "id": "cGxXdQ213I1B",
        "outputId": "9a861503-1865-4e27-def4-32795d1298fa"
      },
      "source": [
        "quick_times_df = pd.DataFrame(list(zip(list_lengths[:6], quick_times)), columns=['n', 'time'])\n",
        "quick_times_df"
      ],
      "execution_count": null,
      "outputs": [
        {
          "output_type": "execute_result",
          "data": {
            "text/html": [
              "<div>\n",
              "<style scoped>\n",
              "    .dataframe tbody tr th:only-of-type {\n",
              "        vertical-align: middle;\n",
              "    }\n",
              "\n",
              "    .dataframe tbody tr th {\n",
              "        vertical-align: top;\n",
              "    }\n",
              "\n",
              "    .dataframe thead th {\n",
              "        text-align: right;\n",
              "    }\n",
              "</style>\n",
              "<table border=\"1\" class=\"dataframe\">\n",
              "  <thead>\n",
              "    <tr style=\"text-align: right;\">\n",
              "      <th></th>\n",
              "      <th>n</th>\n",
              "      <th>time</th>\n",
              "    </tr>\n",
              "  </thead>\n",
              "  <tbody>\n",
              "    <tr>\n",
              "      <th>0</th>\n",
              "      <td>10</td>\n",
              "      <td>0.019877</td>\n",
              "    </tr>\n",
              "    <tr>\n",
              "      <th>1</th>\n",
              "      <td>100</td>\n",
              "      <td>0.000237</td>\n",
              "    </tr>\n",
              "    <tr>\n",
              "      <th>2</th>\n",
              "      <td>1000</td>\n",
              "      <td>0.002667</td>\n",
              "    </tr>\n",
              "    <tr>\n",
              "      <th>3</th>\n",
              "      <td>10000</td>\n",
              "      <td>0.038440</td>\n",
              "    </tr>\n",
              "    <tr>\n",
              "      <th>4</th>\n",
              "      <td>100000</td>\n",
              "      <td>0.520849</td>\n",
              "    </tr>\n",
              "    <tr>\n",
              "      <th>5</th>\n",
              "      <td>1000000</td>\n",
              "      <td>6.369934</td>\n",
              "    </tr>\n",
              "  </tbody>\n",
              "</table>\n",
              "</div>"
            ],
            "text/plain": [
              "         n      time\n",
              "0       10  0.019877\n",
              "1      100  0.000237\n",
              "2     1000  0.002667\n",
              "3    10000  0.038440\n",
              "4   100000  0.520849\n",
              "5  1000000  6.369934"
            ]
          },
          "metadata": {},
          "execution_count": 300
        }
      ]
    },
    {
      "cell_type": "code",
      "metadata": {
        "colab": {
          "base_uri": "https://localhost:8080/",
          "height": 17
        },
        "id": "UdWPfgVq62gp",
        "outputId": "b896892e-2ea1-4e97-e72c-2dc816c89427"
      },
      "source": [
        "quick_times_df.to_csv(\"/content/here/MyDrive/Data and Algorithms/ALGO04/quick_times_df.csv\")"
      ],
      "execution_count": null,
      "outputs": [
      ]
    },
    {
      "cell_type": "code",
      "metadata": {
        "colab": {
          "base_uri": "https://localhost:8080/",
          "height": 383
        },
        "id": "9OKhh6JZ6tWW",
        "outputId": "9236eaa7-38bf-4038-b693-185de99c6b0c"
      },
      "source": [
        "sb.lmplot(x='n', y='time', data=quick_times_df, ci=None, order=2)"
      ],
      "execution_count": null,
      "outputs": [
        {
          "output_type": "execute_result",
          "data": {
            "text/plain": [
              "<seaborn.axisgrid.FacetGrid at 0x7f4bae52e0d0>"
            ]
          },
          "metadata": {},
          "execution_count": 303
        },
        {
          "output_type": "display_data",
          "data": {
            "image/png": "[encoded data removed]",
            "text/plain": [
              "<Figure size 360x360 with 1 Axes>"
            ]
          },
          "metadata": {}
        }
      ]
    },
    {
      "cell_type": "code",
      "metadata": {
        "colab": {
          "base_uri": "https://localhost:8080/",
          "height": 586
        },
        "id": "h7Sb-wAQcimg",
        "outputId": "8ce8cf7c-9d38-4b70-f3e9-a1270af94d8f"
      },
      "source": [
        "big_o = get_img(\"/content/here/MyDrive/Data and Algorithms/big-O complexity chart.png\", resize=1)\n",
        "big_o = take_notes(big_o, \"Quick sort WORST case\", org=(0.3, 0.25), fontFace=cv2.FONT_HERSHEY_SIMPLEX, color=(0, 0, 255), thickness=2)\n",
        "big_o = take_notes(big_o, \"Quick sort AVERAGE case\", org=(0.6, 0.435), fontFace=cv2.FONT_HERSHEY_SIMPLEX, color=(0, 0, 0), thickness=2)\n",
        "big_o = take_notes(big_o, \"Quick sort BEST case\", org=(0.65, 0.775), fontFace=cv2.FONT_HERSHEY_SIMPLEX, color=(0, 130, 0), thickness=2)\n",
        "big_o = cite_source(big_o, \"chart from https://bigocheatsheet.com/\", scale=0.4)\n",
        "cv2_imshow(big_o)"
      ],
      "execution_count": null,
      "outputs": [
        {
          "output_type": "display_data",
          "data": {
            "image/png": "[encoded data removed]",
            "text/plain": [
              "<PIL.Image.Image image mode=RGB size=822x569 at 0x7F4B95456710>"
            ]
          },
          "metadata": {}
        }
      ]
    }
  ]
}
