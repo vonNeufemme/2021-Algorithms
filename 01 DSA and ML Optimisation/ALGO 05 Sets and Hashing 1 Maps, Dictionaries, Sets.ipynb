{
  "nbformat": 4,
  "nbformat_minor": 0,
  "metadata": {
    "colab": {
      "name": "ALGO 05 Sets and Hasing 1 Maps and Dictionaries",
      "provenance": [],
      "collapsed_sections": []
    },
    "kernelspec": {
      "name": "python3",
      "display_name": "Python 3"
    },
    "language_info": {
      "name": "python"
    }
  },
  "cells": [
    {
      "cell_type": "markdown",
      "metadata": {
        "id": "vPgjW2NO3nxh"
      },
      "source": [
        "## References\n",
        "\n",
        "My algorithm learning notebook following the live lesson series [**\"Data Structures, Algorithms, and Machine Learning Optimization\"**](https://learning.oreilly.com/videos/data-structures-algorithms/9780137644889/) by Dr. Jon Krohn. I adapted some and partially modified or added entirely new code. Notes largely based on and (some of them entirely) from Jon's notebooks and learning materials. The lesson and original notebook source code at:\n",
        "\n",
        "https://learning.oreilly.com/videos/data-structures-algorithms/9780137644889/\n",
        "https://github.com/jonkrohn/ML-foundations/blob/master/notebooks/7-algos-and-data-structures.ipynb"
      ]
    },
    {
      "cell_type": "markdown",
      "metadata": {
        "id": "-iQOFLLdv7Nx"
      },
      "source": [
        "# ALGO 05 Sets and Hasing 1 Maps and Dictionaries\n",
        "\n",
        "\n",
        "Resources \n",
        "\n",
        "1)  Dense Sentiment Classifier\n",
        "\n",
        "- `DLTFpT/notebooks/dense_sentiment_classifier.ipynb`\n",
        "  https://github.com/jonkrohn/DLTFpT/blob/master/notebooks/dense_sentiment_classifier.ipynb\n",
        "\n",
        "\n",
        "2) Deep Learning with TensorFlow, Keras, and PyTorch\n",
        "  - https://github.com/jonkrohn/DLTFpT\n",
        "\n"
      ]
    },
    {
      "cell_type": "markdown",
      "metadata": {
        "id": "5HgYweYl3VIt"
      },
      "source": [
        "# 5.1 Maps and Dictionaries\n",
        "\n",
        "- Maps are set-based data structure.\n",
        "\n",
        "- Have key-value structure\n",
        "  - **Key** (name) indicates where **value** is.\n",
        "  - Like real-world map shows where place is.\n",
        "- **Dictionary** in Python. \n",
        "- Frequently used in NLP: integer index of words"
      ]
    },
    {
      "cell_type": "markdown",
      "metadata": {
        "id": "MbVWfIR8YX4A"
      },
      "source": [
        "Words are often paired with integers because integers have lesser memory footprint. Strings are heavier than integers memory-wise."
      ]
    },
    {
      "cell_type": "code",
      "metadata": {
        "id": "vNPVTKW9gkXn"
      },
      "source": [
        "# an example of word-integer dictionary\n",
        "word_inde = {'fawn': 34704, 'woods': 1411, 'spiders': 16118,\n",
        "            'hanging': 2348, 'woody': 2292, 'trawling': 52011,\n",
        "            \"'royale\": 52013, 'arranged': 6749, \"'prix\": 52022}"
      ],
      "execution_count": 1,
      "outputs": []
    },
    {
      "cell_type": "markdown",
      "metadata": {
        "id": "_PThFnwAYmqU"
      },
      "source": [
        "# 5.2 Sets\n",
        "\n",
        "\n",
        "Sets are ***unordered*** collection of itmes. \n",
        "- It is like having a bag of stuff.\n",
        "- No duplicates allowed. "
      ]
    },
    {
      "cell_type": "code",
      "metadata": {
        "colab": {
          "base_uri": "https://localhost:8080/"
        },
        "id": "YAcc_vjJ3hU-",
        "outputId": "43573ba2-d87e-498f-dfa6-34f83f4e6a23"
      },
      "source": [
        "# create a dictionary\n",
        "inventory = {}\n",
        "inventory"
      ],
      "execution_count": 2,
      "outputs": [
        {
          "output_type": "execute_result",
          "data": {
            "text/plain": [
              "{}"
            ]
          },
          "metadata": {},
          "execution_count": 2
        }
      ]
    },
    {
      "cell_type": "code",
      "metadata": {
        "colab": {
          "base_uri": "https://localhost:8080/"
        },
        "id": "JjUqZykS4Tx2",
        "outputId": "d1071b4a-29d4-4256-a32d-9293b99eb84b"
      },
      "source": [
        "inventory['strawberry'] = [53]\n",
        "inventory"
      ],
      "execution_count": 3,
      "outputs": [
        {
          "output_type": "execute_result",
          "data": {
            "text/plain": [
              "{'strawberry': [53]}"
            ]
          },
          "metadata": {},
          "execution_count": 3
        }
      ]
    },
    {
      "cell_type": "code",
      "metadata": {
        "id": "6UyBk96X4pDU"
      },
      "source": [
        "inventory['mango'] = [23]\n",
        "inventory['blueberry'] = [446]\n",
        "inventory['almond'] = ['none']"
      ],
      "execution_count": 4,
      "outputs": []
    },
    {
      "cell_type": "code",
      "metadata": {
        "colab": {
          "base_uri": "https://localhost:8080/"
        },
        "id": "y5-46RLY4q9b",
        "outputId": "eafa95b5-1f6a-4e6d-e4d5-7cb2fa6c15a1"
      },
      "source": [
        "# See how this map is unordered. \n",
        "# Key-value pairs listed in alphabetical order despite the order of addition.\n",
        "inventory"
      ],
      "execution_count": 5,
      "outputs": [
        {
          "output_type": "execute_result",
          "data": {
            "text/plain": [
              "{'almond': ['none'], 'blueberry': [446], 'mango': [23], 'strawberry': [53]}"
            ]
          },
          "metadata": {},
          "execution_count": 5
        }
      ]
    },
    {
      "cell_type": "code",
      "metadata": {
        "colab": {
          "base_uri": "https://localhost:8080/"
        },
        "id": "3PVZvPFF4xn_",
        "outputId": "168aad06-c34c-4ef0-d2f7-4f2489ef87d1"
      },
      "source": [
        "# Change the value of a key.\n",
        "inventory['almond'] = [798]\n",
        "inventory"
      ],
      "execution_count": 6,
      "outputs": [
        {
          "output_type": "execute_result",
          "data": {
            "text/plain": [
              "{'almond': [798], 'blueberry': [446], 'mango': [23], 'strawberry': [53]}"
            ]
          },
          "metadata": {},
          "execution_count": 6
        }
      ]
    },
    {
      "cell_type": "code",
      "metadata": {
        "colab": {
          "base_uri": "https://localhost:8080/"
        },
        "id": "DzoJH_6MaITh",
        "outputId": "f030c552-c1c7-4ba4-df66-45895926bba2"
      },
      "source": [
        "# Now the blueberry's value is a list of integers. \n",
        "inventory['blueberry'].append(13)\n",
        "inventory"
      ],
      "execution_count": 7,
      "outputs": [
        {
          "output_type": "execute_result",
          "data": {
            "text/plain": [
              "{'almond': [798], 'blueberry': [446, 13], 'mango': [23], 'strawberry': [53]}"
            ]
          },
          "metadata": {},
          "execution_count": 7
        }
      ]
    }
  ]
}
