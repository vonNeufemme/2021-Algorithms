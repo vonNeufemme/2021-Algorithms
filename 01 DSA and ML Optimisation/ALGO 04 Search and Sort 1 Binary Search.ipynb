{
  "nbformat": 4,
  "nbformat_minor": 0,
  "metadata": {
    "colab": {
      "name": "ALGO 04 Search and Sort 1 Binary Search",
      "provenance": [],
      "collapsed_sections": []
    },
    "kernelspec": {
      "name": "python3",
      "display_name": "Python 3"
    },
    "language_info": {
      "name": "python"
    }
  },
  "cells": [
    {
      "cell_type": "markdown",
      "metadata": {
        "id": "-iQOFLLdv7Nx"
      },
      "source": [
        "# Searching & Sorting\n",
        "- Not frequent in ML however:\n",
        "  - Examplary to demo: \n",
        "    - Time complexity\n",
        "    - Space complexity\n",
        "    - Tyipcal time/space tradeoff\n",
        "  - Helpful for ML pipelines:\n",
        "    - Data Capture\n",
        "    - Preprocessing\n",
        "    - Training\n",
        "    - Deployment"
      ]
    },
    {
      "cell_type": "markdown",
      "metadata": {
        "id": "3x9nq9P9guQD"
      },
      "source": [
        "# 4.1 Binary Search"
      ]
    },
    {
      "cell_type": "code",
      "metadata": {
        "id": "GLqAFM4Sj29v",
        "colab": {
          "base_uri": "https://localhost:8080/",
          "height": 35
        },
        "outputId": "46d094d1-836b-4ddf-b3bf-c84547222486"
      },
      "source": [
        "b = np.array([np.random.randint(0, 151) for integer in range(9)])\n",
        "b   # unordered list"
      ],
      "execution_count": null,
      "outputs": [
        {
          "output_type": "execute_result",
          "data": {
            "text/plain": [
              "array([100,  75, 116, 114,  70,  19,  33,  88,  93])"
            ]
          },
          "metadata": {},
          "execution_count": 32
        }
      ]
    },
    {
      "cell_type": "markdown",
      "metadata": {
        "id": "V-k1JiXYwvrY"
      },
      "source": [
        "\n",
        "Under normal circumstances, the only way to search for a value (e.g., 100) is:\n",
        "- to search element by element. \n",
        "- = iterate through every single elmeent. \n",
        "\n",
        "In the worse-case, this has O($n$) time complexity (e.g., if we were to search b for 100 from its end)."
      ]
    },
    {
      "cell_type": "code",
      "metadata": {
        "colab": {
          "base_uri": "https://localhost:8080/",
          "height": 35
        },
        "id": "IzHUpB4rr0dM",
        "outputId": "106d381c-57fe-44f9-baff-8fdcd14b9f1c"
      },
      "source": [
        "# Quick sort\n",
        "b.sort()\n",
        "b"
      ],
      "execution_count": null,
      "outputs": [
        {
          "output_type": "execute_result",
          "data": {
            "text/plain": [
              "array([ 19,  33,  70,  75,  88,  93, 100, 114, 116])"
            ]
          },
          "metadata": {},
          "execution_count": 34
        }
      ]
    },
    {
      "cell_type": "markdown",
      "metadata": {
        "id": "EWuISl4sxY09"
      },
      "source": [
        "...we can use the **binary search** algorithm, which has O(log $n$) time complexity: \n",
        "\n",
        "* Start at the midpoint (`b` is nine elements long, so midpoint is 5th: `88`).\n",
        "* Since `100` is larger than `88`, we need only search the latter half of `b`...\n",
        "* So we find the midpoint between the 5th element and the 9th, which is the 7th, and which happens to be `100`. \n",
        "* Done! And in only two steps instead of seven (if we were to search elementwise from first onward).\n",
        "* If we were searching for `93`, then our next search would be halfway between 5th and 7th elements, which is 6th element and voilà!\n",
        "* With our nine-element array, worst case is four steps (for `19` or `116`, the numbers at the two extremes) to find any value (or determine value *isn't* in array).\n",
        "\n",
        "(Note: this search algorithm is called *binary* because at each step we cut the list into half and search *either* upward or downward.)\n",
        "\n",
        "Doubling $n$ results in only one extra step in worst case:\n",
        "> Don't get confused with the length of the list. The number for the length of a list is one, and the count of search operations is another.\n",
        ">\n",
        "> Let's say there is a list of 100 elements. Will you have to iterate through every single one of them? If that's the case, the time complexity will be linear, $O(100)$. However, we are going binary here:\n",
        ">\n",
        "> - Chop the list of 100 up into half, now your list is 50-element long (1 operation performed). \n",
        "> - Chop it up again: a list of 25 elements, 2 operations done.\n",
        "> - Again: a list of 13 elements and 3 operations. \n",
        ">\n",
        "> So you see, every binarisation (halving of the list) equals one operation. Which can be expressed using log base 2 as below...:\n",
        "\n",
        "\n",
        "* One step with array of length 1($= 2^0$)\n",
        "* Two steps with length 2($= 2^1$) up to length 3\n",
        "* Three steps with $n = 4 (= 2^2$) up to $n = 7$\n",
        "* Four steps with $n = 8 (= 2^3$) up to $n = 15$\n",
        "* Five steps with $n = 16 (= 2^4$) up to $n = 31$\n",
        "\n",
        "Hence O(log $n$) where, as is typical in CS, we use $\\text{log}_2$ (because of binary bits and frequently doubling/halving quantities). E.g.: "
      ]
    },
    {
      "cell_type": "code",
      "metadata": {
        "colab": {
          "base_uri": "https://localhost:8080/",
          "height": 35
        },
        "id": "YiL18n-O48w6",
        "outputId": "e48c32c3-ec53-4c36-b853-80bae63d6aa4"
      },
      "source": [
        "# list of 4 elements\n",
        "np.log2(4) + 1          \n",
        "\n",
        "# the reason for +1 here is because \n",
        "# the binary search requires at least 1 operation \n",
        "# even for a list of a single element. "
      ],
      "execution_count": null,
      "outputs": [
        {
          "output_type": "execute_result",
          "data": {
            "text/plain": [
              "3.0"
            ]
          },
          "metadata": {},
          "execution_count": 36
        }
      ]
    },
    {
      "cell_type": "code",
      "metadata": {
        "colab": {
          "base_uri": "https://localhost:8080/",
          "height": 35
        },
        "id": "QTTIzFsc5Aln",
        "outputId": "9606034b-da09-497d-fb1a-e872cdce5e8d"
      },
      "source": [
        "# list of 8 elements\n",
        "np.log2(8) + 1"
      ],
      "execution_count": null,
      "outputs": [
        {
          "output_type": "execute_result",
          "data": {
            "text/plain": [
              "4.0"
            ]
          },
          "metadata": {},
          "execution_count": 40
        }
      ]
    },
    {
      "cell_type": "code",
      "metadata": {
        "colab": {
          "base_uri": "https://localhost:8080/",
          "height": 35
        },
        "id": "EblMPYt75KVS",
        "outputId": "af38ff1d-9b6b-40f9-b6c3-7acd95109531"
      },
      "source": [
        "# list of 16 elements\n",
        "np.log2(16) + 1"
      ],
      "execution_count": null,
      "outputs": [
        {
          "output_type": "execute_result",
          "data": {
            "text/plain": [
              "5.0"
            ]
          },
          "metadata": {},
          "execution_count": 41
        }
      ]
    },
    {
      "cell_type": "markdown",
      "metadata": {
        "id": "K8t0oMya5imi"
      },
      "source": [
        "### Binary Search Time Complexity"
      ]
    },
    {
      "cell_type": "code",
      "metadata": {
        "colab": {
          "base_uri": "https://localhost:8080/",
          "height": 90
        },
        "id": "EP8zw58F5bsy",
        "outputId": "0ee98555-556c-4805-dfca-f73be92d6357"
      },
      "source": [
        "binary = np.arange(2, 101, 2)\n",
        "binary"
      ],
      "execution_count": null,
      "outputs": [
        {
          "output_type": "execute_result",
          "data": {
            "text/plain": [
              "array([  2,   4,   6,   8,  10,  12,  14,  16,  18,  20,  22,  24,  26,\n",
              "        28,  30,  32,  34,  36,  38,  40,  42,  44,  46,  48,  50,  52,\n",
              "        54,  56,  58,  60,  62,  64,  66,  68,  70,  72,  74,  76,  78,\n",
              "        80,  82,  84,  86,  88,  90,  92,  94,  96,  98, 100])"
            ]
          },
          "metadata": {},
          "execution_count": 42
        }
      ]
    },
    {
      "cell_type": "code",
      "metadata": {
        "colab": {
          "base_uri": "https://localhost:8080/",
          "height": 351
        },
        "id": "ihi-7Tk35h29",
        "outputId": "f124cfef-394c-4012-c3c3-4fb8fdc65697"
      },
      "source": [
        "fig, ax = plt.subplots()\n",
        "ax.plot(binary, np.log2(binary) + 1, label=\"log2(x)\")\n",
        "ax.set_xlabel(\"n number of elements in a list\", fontsize=15)\n",
        "ax.set_ylabel(\"n of search operations\", fontsize=15)\n",
        "ax.legend()\n",
        "fig.suptitle(\"For doubling elements, the time complexity\\ngrows only exponentially slowly.\", fontsize=20, y=1.05)\n",
        "# In time complexity computation, however, we compute the most dominant term only. "
      ],
      "execution_count": null,
      "outputs": [
        {
          "output_type": "execute_result",
          "data": {
            "text/plain": [
              "Text(0.5, 1.05, 'For doubling elements, the time complexity\\ngrows only exponentially slowly.')"
            ]
          },
          "metadata": {},
          "execution_count": 49
        },
        {
          "output_type": "display_data",
          "data": {
            "image/png": "[encoded data removed]",
            "text/plain": [
              "<Figure size 432x288 with 1 Axes>"
            ]
          },
          "metadata": {
            "needs_background": "light"
          }
        }
      ]
    },
    {
      "cell_type": "markdown",
      "metadata": {
        "id": "Fvqg1lo_9PU5"
      },
      "source": [
        "## Binary-searching through list - Manipulate index\n",
        "\n",
        "Below list uses the index numbers and returns index of the searched value."
      ]
    },
    {
      "cell_type": "code",
      "metadata": {
        "colab": {
          "base_uri": "https://localhost:8080/",
          "height": 17
        },
        "id": "9JbDrrBl5lJT",
        "outputId": "ab8de13a-9bcd-4e40-bb8d-3cf8dabe7ce9"
      },
      "source": [
        "# Be attentive to what the variables actually represent. \n",
        "# low, high, midpoint are all index numbers \n",
        "# which allow us to move through the list elements.\n",
        "\n",
        "def binary_search(array, value):\n",
        "    low = 0               # index of first element\n",
        "    high = len(array) - 1 # index of last element\n",
        "\n",
        "    while low <= high:    # first index value does not surpass the last index value\n",
        "        midpoint = (low + high) // 2  # rounds down to nearest integer after division.\n",
        "        if value < array[midpoint]:   # if the value is smaller than the midpoint value of the array,\n",
        "            high = midpoint - 1       # set that midpoint index to the highest.\n",
        "        elif value > array[midpoint]:\n",
        "            low = midpoint + 1\n",
        "        else: \n",
        "            return midpoint\n",
        "    return -1"
      ],
      "execution_count": null,
      "outputs": [
      ]
    },
    {
      "cell_type": "code",
      "metadata": {
        "colab": {
          "base_uri": "https://localhost:8080/",
          "height": 35
        },
        "id": "U_smkn8-5hxL",
        "outputId": "bb7efcad-5f0c-4b6d-e3bf-c09fdfd1b9ec"
      },
      "source": [
        "binary_search(b, 114)"
      ],
      "execution_count": null,
      "outputs": [
        {
          "output_type": "execute_result",
          "data": {
            "text/plain": [
              "7"
            ]
          },
          "metadata": {},
          "execution_count": 53
        }
      ]
    },
    {
      "cell_type": "code",
      "metadata": {
        "colab": {
          "base_uri": "https://localhost:8080/",
          "height": 35
        },
        "id": "IrAx62rH97kE",
        "outputId": "beff6fce-5ad3-4509-bd89-b85a3aba7ee4"
      },
      "source": [
        "binary_search(b, 235)   # returns -1 for an inexistent value"
      ],
      "execution_count": null,
      "outputs": [
        {
          "output_type": "execute_result",
          "data": {
            "text/plain": [
              "-1"
            ]
          },
          "metadata": {},
          "execution_count": 56
        }
      ]
    },
    {
      "cell_type": "code",
      "metadata": {
        "colab": {
          "base_uri": "https://localhost:8080/",
          "height": 35
        },
        "id": "7Sl9ifCC91cE",
        "outputId": "8c234f34-950d-4fbb-aae5-8a3ad06c9121"
      },
      "source": [
        "binary_search(binary, 68)"
      ],
      "execution_count": null,
      "outputs": [
        {
          "output_type": "execute_result",
          "data": {
            "text/plain": [
              "33"
            ]
          },
          "metadata": {},
          "execution_count": 55
        }
      ]
    },
    {
      "cell_type": "code",
      "metadata": {
        "colab": {
          "base_uri": "https://localhost:8080/",
          "height": 17
        },
        "id": "6gM3viT8-NZa",
        "outputId": "50980e41-70e3-4b0d-e843-ffd8fb8453c7"
      },
      "source": [
        "def recursive_binary_search(array, value, low, high):\n",
        "    if low <= high:\n",
        "        midpoint = (low + high) // 2\n",
        "\n",
        "        if array[midpoint] == value:\n",
        "            return midpoint\n",
        "        elif array[midpoint] > value:\n",
        "            return recursive_binary_search(array, value, low, midpoint-1)  # recursive call: half the size the previous list\n",
        "        else:\n",
        "            return recursive_binary_search(array, value, midpoint+1, high)\n",
        "    else:\n",
        "        return -1"
      ],
      "execution_count": null,
      "outputs": [
      ]
    },
    {
      "cell_type": "code",
      "metadata": {
        "colab": {
          "base_uri": "https://localhost:8080/",
          "height": 35
        },
        "id": "Ey9ctzr1_jY8",
        "outputId": "7103eadf-bc0a-4b15-f6ad-f43540689750"
      },
      "source": [
        "recursive_binary_search(b, 114, 0, len(b)-1)"
      ],
      "execution_count": null,
      "outputs": [
        {
          "output_type": "execute_result",
          "data": {
            "text/plain": [
              "7"
            ]
          },
          "metadata": {},
          "execution_count": 59
        }
      ]
    },
    {
      "cell_type": "code",
      "metadata": {
        "colab": {
          "base_uri": "https://localhost:8080/",
          "height": 35
        },
        "id": "xqVkkGDc_9bf",
        "outputId": "6fb6403f-64cc-464d-9924-e1d3e0f5799c"
      },
      "source": [
        "recursive_binary_search(b, 235, 0, len(b)-1)"
      ],
      "execution_count": null,
      "outputs": [
        {
          "output_type": "execute_result",
          "data": {
            "text/plain": [
              "-1"
            ]
          },
          "metadata": {},
          "execution_count": 62
        }
      ]
    },
    {
      "cell_type": "code",
      "metadata": {
        "colab": {
          "base_uri": "https://localhost:8080/",
          "height": 35
        },
        "id": "_OMsQX09_rVp",
        "outputId": "f1486af1-e088-4bd1-d147-1027071475e9"
      },
      "source": [
        "recursive_binary_search(binary, 68, 0, len(binary)-1)"
      ],
      "execution_count": null,
      "outputs": [
        {
          "output_type": "execute_result",
          "data": {
            "text/plain": [
              "33"
            ]
          },
          "metadata": {},
          "execution_count": 61
        }
      ]
    },
    {
      "cell_type": "markdown",
      "metadata": {
        "id": "O3KHteJ9OshX"
      },
      "source": [
        "References\n",
        "\n",
        "My algorithm learning notebook following the live lesson series [**\"Data Structures, Algorithms, and Machine Learning Optimization\"**](https://learning.oreilly.com/videos/data-structures-algorithms/9780137644889/) by Dr. Jon Krohn. I adapted some and partially modified or added entirely new code. Notes largely based on and (some of them entirely) from Jon's notebooks and learning materials. The lesson and original notebook source code at:\n",
        "\n",
        "https://learning.oreilly.com/videos/data-structures-algorithms/9780137644889/\n",
        "https://github.com/jonkrohn/ML-foundations/blob/master/notebooks/7-algos-and-data-structures.ipynb"
      ]
    }
  ]
}
