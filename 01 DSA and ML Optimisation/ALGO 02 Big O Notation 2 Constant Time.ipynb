{
  "nbformat": 4,
  "nbformat_minor": 0,
  "metadata": {
    "colab": {
      "name": "ALGO 02 Big O Notation 2 Constant Time.ipynb",
      "provenance": [],
      "collapsed_sections": []
    },
    "kernelspec": {
      "name": "python3",
      "display_name": "Python 3"
    },
    "language_info": {
      "name": "python"
    }
  },
  "cells": [
    {
      "cell_type": "markdown",
      "metadata": {
        "id": "8GSBilNqXBYD"
      },
      "source": [
        "# 2.2 Constant Time\n",
        "\n",
        "In the constant time process, the algorithm runs for about the same amount of time regardless of the length of your list. \n",
        "\n",
        "\n",
        "---\n",
        "([Wikipedia](https://en.wikipedia.org/wiki/Time_complexity))\n",
        "\n",
        "An algorithm is said to be constant time (also written as O(1) time) if **the value of T(n) is bounded by a value that does not depend on the size of the input**. For example,:\n",
        "- accessing any single element in an array \n",
        "  - as only one operation has to be performed to locate it. \n",
        "- finding the minimal value in an array sorted in ascending order; \n",
        "  - it is the first element."
      ]
    },
    {
      "cell_type": "markdown",
      "metadata": {
        "id": "RCx83u4VbeCL"
      },
      "source": [
        "## Get-first-item"
      ]
    },
    {
      "cell_type": "code",
      "metadata": {
        "id": "ZzWic5RhYeED"
      },
      "source": [
        "def get_first_item(my_list):\n",
        "    return my_list[0]"
      ],
      "execution_count": null,
      "outputs": []
    },
    {
      "cell_type": "code",
      "metadata": {
        "id": "AL_Lj-x8YoGh"
      },
      "source": [
        "short_list = [15, 53, 258]\n",
        "long_list = [42] * 10**8   # one hundred million items"
      ],
      "execution_count": null,
      "outputs": []
    },
    {
      "cell_type": "code",
      "metadata": {
        "id": "qJZHD4AuYvzk"
      },
      "source": [
        "# take a snapshot of what time it is upon start and end.\n",
        "def timer(func, x):\n",
        "    start_time = time.process_time()\n",
        "    item = func(x)\n",
        "    end_time = time.process_time()\n",
        "    print(f'{end_time - start_time} seconds')\n",
        "    return item"
      ],
      "execution_count": null,
      "outputs": []
    },
    {
      "cell_type": "code",
      "metadata": {
        "colab": {
          "base_uri": "https://localhost:8080/"
        },
        "id": "2W_hKq3gZZLf",
        "outputId": "3b1d2e9c-10cf-4a55-a937-0293f01316e3"
      },
      "source": [
        "# Doesn't seem that there is any great difference in the process time.\n",
        "short_first = timer(get_first_item, short_list)\n",
        "long_first = timer(get_first_item, long_list)"
      ],
      "execution_count": null,
      "outputs": [
        {
          "output_type": "stream",
          "name": "stdout",
          "text": [
            "6.634000001781715e-06 seconds\n",
            "4.740000001390854e-06 seconds\n"
          ]
        }
      ]
    },
    {
      "cell_type": "code",
      "metadata": {
        "colab": {
          "base_uri": "https://localhost:8080/"
        },
        "id": "-iWH-BKUaPl5",
        "outputId": "c75766a2-967e-41f2-ac51-5796c92d6a59"
      },
      "source": [
        "short_first, long_first"
      ],
      "execution_count": null,
      "outputs": [
        {
          "output_type": "execute_result",
          "data": {
            "text/plain": [
              "(15, 42)"
            ]
          },
          "metadata": {},
          "execution_count": 23
        }
      ]
    },
    {
      "cell_type": "markdown",
      "metadata": {
        "id": "4MHEyfw7blZw"
      },
      "source": [
        "## Get-first-item from lists of varying lengths"
      ]
    },
    {
      "cell_type": "code",
      "metadata": {
        "colab": {
          "base_uri": "https://localhost:8080/"
        },
        "id": "TEE_dZCGbdJp",
        "outputId": "258f60ea-9bbe-4016-a3d9-1f1f98673c4d"
      },
      "source": [
        "list_lengths = [10**exponent for exponent in range(1, 9)]\n",
        "list_lengths"
      ],
      "execution_count": null,
      "outputs": [
        {
          "output_type": "execute_result",
          "data": {
            "text/plain": [
              "[10, 100, 1000, 10000, 100000, 1000000, 10000000, 100000000]"
            ]
          },
          "metadata": {},
          "execution_count": 1
        }
      ]
    },
    {
      "cell_type": "code",
      "metadata": {
        "id": "o_54H7wnb4dH"
      },
      "source": [
        "constant_times = []\n",
        "\n",
        "for length in list_lengths:\n",
        "    li = [42] * length\n",
        "\n",
        "    start = time.process_time()\n",
        "    x = get_first_item(li)\n",
        "    end = time.process_time()\n",
        "\n",
        "    constant_times.append(end - start)"
      ],
      "execution_count": null,
      "outputs": []
    },
    {
      "cell_type": "code",
      "metadata": {
        "colab": {
          "base_uri": "https://localhost:8080/",
          "height": 299
        },
        "id": "EOsfGlTxcZFe",
        "outputId": "0f2b2eb0-5cdf-499d-a298-f5ae662ab9fe"
      },
      "source": [
        "# The runtime for the operation didni't really change. No significant difference.\n",
        "constant_times_df = pd.DataFrame(list(zip(list_lengths, constant_times)), columns=['length', 'time'])\n",
        "constant_times_df"
      ],
      "execution_count": null,
      "outputs": [
        {
          "output_type": "execute_result",
          "data": {
            "text/html": [
              "<div>\n",
              "<style scoped>\n",
              "    .dataframe tbody tr th:only-of-type {\n",
              "        vertical-align: middle;\n",
              "    }\n",
              "\n",
              "    .dataframe tbody tr th {\n",
              "        vertical-align: top;\n",
              "    }\n",
              "\n",
              "    .dataframe thead th {\n",
              "        text-align: right;\n",
              "    }\n",
              "</style>\n",
              "<table border=\"1\" class=\"dataframe\">\n",
              "  <thead>\n",
              "    <tr style=\"text-align: right;\">\n",
              "      <th></th>\n",
              "      <th>length</th>\n",
              "      <th>time</th>\n",
              "    </tr>\n",
              "  </thead>\n",
              "  <tbody>\n",
              "    <tr>\n",
              "      <th>0</th>\n",
              "      <td>10</td>\n",
              "      <td>6.419000e-06</td>\n",
              "    </tr>\n",
              "    <tr>\n",
              "      <th>1</th>\n",
              "      <td>100</td>\n",
              "      <td>1.082000e-06</td>\n",
              "    </tr>\n",
              "    <tr>\n",
              "      <th>2</th>\n",
              "      <td>1000</td>\n",
              "      <td>8.630000e-07</td>\n",
              "    </tr>\n",
              "    <tr>\n",
              "      <th>3</th>\n",
              "      <td>10000</td>\n",
              "      <td>9.080000e-07</td>\n",
              "    </tr>\n",
              "    <tr>\n",
              "      <th>4</th>\n",
              "      <td>100000</td>\n",
              "      <td>2.250000e-06</td>\n",
              "    </tr>\n",
              "    <tr>\n",
              "      <th>5</th>\n",
              "      <td>1000000</td>\n",
              "      <td>1.045000e-05</td>\n",
              "    </tr>\n",
              "    <tr>\n",
              "      <th>6</th>\n",
              "      <td>10000000</td>\n",
              "      <td>1.560900e-05</td>\n",
              "    </tr>\n",
              "    <tr>\n",
              "      <th>7</th>\n",
              "      <td>100000000</td>\n",
              "      <td>1.834170e-04</td>\n",
              "    </tr>\n",
              "  </tbody>\n",
              "</table>\n",
              "</div>"
            ],
            "text/plain": [
              "      length          time\n",
              "0         10  6.419000e-06\n",
              "1        100  1.082000e-06\n",
              "2       1000  8.630000e-07\n",
              "3      10000  9.080000e-07\n",
              "4     100000  2.250000e-06\n",
              "5    1000000  1.045000e-05\n",
              "6   10000000  1.560900e-05\n",
              "7  100000000  1.834170e-04"
            ]
          },
          "metadata": {},
          "execution_count": 31
        }
      ]
    },
    {
      "cell_type": "markdown",
      "metadata": {
        "id": "h0ugbGondkiw"
      },
      "source": [
        "## Experiment: get-middle-item\n",
        "\n",
        "The function below `create_list_get_middle_item()` creates a list of a given length [10, 100, 1000, 10000, 100000, 1000000, 10000000, 100000000] and gets the item in the mid-index position in the list. \n",
        "\n",
        "<br/>\n",
        "\n",
        "**Observations**\n",
        "- from 6th length 1,000,000 (million), the algorithm takes a significant around of time.\n",
        "        1) a million items: 3.13 seconds\n",
        "        2) 10 million items: 30.81 seconds\n",
        "        3) 100 million items: "
      ]
    },
    {
      "cell_type": "code",
      "metadata": {
        "id": "6LOxirzKdjlS"
      },
      "source": [
        "def create_list_get_middle_item(length):\n",
        "    random_list = [np.random.randint(1, 100) for num in range(length)]\n",
        "    index = int(np.ceil(len(random_list)/2))\n",
        "    return random_list[index]"
      ],
      "execution_count": null,
      "outputs": []
    },
    {
      "cell_type": "code",
      "metadata": {
        "id": "bKtlAtJLfib1"
      },
      "source": [
        "def timer(func, x):\n",
        "    start_time = time.process_time()\n",
        "    item = func(x)\n",
        "    end_time = time.process_time()\n",
        "    print(f'for a list of {x} items: {end_time - start_time} seconds')\n",
        "    return item"
      ],
      "execution_count": null,
      "outputs": []
    },
    {
      "cell_type": "code",
      "metadata": {
        "colab": {
          "base_uri": "https://localhost:8080/"
        },
        "id": "aquFU3idet4R",
        "outputId": "a75c5c75-046f-4895-c657-b6b103393bba"
      },
      "source": [
        "items = []\n",
        "for length in list_lengths:\n",
        "    item = timer(create_list_get_middle_item, length)\n",
        "    items.append(item)"
      ],
      "execution_count": null,
      "outputs": [
        {
          "output_type": "stream",
          "name": "stdout",
          "text": [
            "for a list of 10 items: 0.0001476269999969304 seconds\n",
            "for a list of 100 items: 0.0006050300000026709 seconds\n",
            "for a list of 1000 items: 0.005656954000002656 seconds\n",
            "for a list of 10000 items: 0.03701974300000188 seconds\n",
            "for a list of 100000 items: 0.3147787919999985 seconds\n",
            "for a list of 1000000 items: 3.131447499999993 seconds\n",
            "for a list of 10000000 items: 30.814308366000006 seconds\n",
            "for a list of 100000000 items: 307.168835958 seconds\n"
          ]
        }
      ]
    },
    {
      "cell_type": "code",
      "metadata": {
        "id": "aHXYMI9kIrBN"
      },
      "source": [
        "times = [0.0001476269999969304, 0.0006050300000026709, 0.005656954000002656, \n",
        "         0.03701974300000188, 0.3147787919999985, 3.131447499999993, \n",
        "         30.814308366000006, 307.168835958]"
      ],
      "execution_count": null,
      "outputs": []
    },
    {
      "cell_type": "code",
      "metadata": {
        "colab": {
          "base_uri": "https://localhost:8080/",
          "height": 299
        },
        "id": "jmIvda6WJItL",
        "outputId": "a7d144d7-f809-4be5-baef-e87d12b4fb2d"
      },
      "source": [
        "import pandas as pd\n",
        "\n",
        "constant_df = pd.DataFrame(list(zip(list_lengths, times)), columns=['length', 'time'])\n",
        "constant_df"
      ],
      "execution_count": null,
      "outputs": [
        {
          "output_type": "execute_result",
          "data": {
            "text/html": [
              "<div>\n",
              "<style scoped>\n",
              "    .dataframe tbody tr th:only-of-type {\n",
              "        vertical-align: middle;\n",
              "    }\n",
              "\n",
              "    .dataframe tbody tr th {\n",
              "        vertical-align: top;\n",
              "    }\n",
              "\n",
              "    .dataframe thead th {\n",
              "        text-align: right;\n",
              "    }\n",
              "</style>\n",
              "<table border=\"1\" class=\"dataframe\">\n",
              "  <thead>\n",
              "    <tr style=\"text-align: right;\">\n",
              "      <th></th>\n",
              "      <th>length</th>\n",
              "      <th>time</th>\n",
              "    </tr>\n",
              "  </thead>\n",
              "  <tbody>\n",
              "    <tr>\n",
              "      <th>0</th>\n",
              "      <td>10</td>\n",
              "      <td>0.000148</td>\n",
              "    </tr>\n",
              "    <tr>\n",
              "      <th>1</th>\n",
              "      <td>100</td>\n",
              "      <td>0.000605</td>\n",
              "    </tr>\n",
              "    <tr>\n",
              "      <th>2</th>\n",
              "      <td>1000</td>\n",
              "      <td>0.005657</td>\n",
              "    </tr>\n",
              "    <tr>\n",
              "      <th>3</th>\n",
              "      <td>10000</td>\n",
              "      <td>0.037020</td>\n",
              "    </tr>\n",
              "    <tr>\n",
              "      <th>4</th>\n",
              "      <td>100000</td>\n",
              "      <td>0.314779</td>\n",
              "    </tr>\n",
              "    <tr>\n",
              "      <th>5</th>\n",
              "      <td>1000000</td>\n",
              "      <td>3.131447</td>\n",
              "    </tr>\n",
              "    <tr>\n",
              "      <th>6</th>\n",
              "      <td>10000000</td>\n",
              "      <td>30.814308</td>\n",
              "    </tr>\n",
              "    <tr>\n",
              "      <th>7</th>\n",
              "      <td>100000000</td>\n",
              "      <td>307.168836</td>\n",
              "    </tr>\n",
              "  </tbody>\n",
              "</table>\n",
              "</div>"
            ],
            "text/plain": [
              "      length        time\n",
              "0         10    0.000148\n",
              "1        100    0.000605\n",
              "2       1000    0.005657\n",
              "3      10000    0.037020\n",
              "4     100000    0.314779\n",
              "5    1000000    3.131447\n",
              "6   10000000   30.814308\n",
              "7  100000000  307.168836"
            ]
          },
          "metadata": {},
          "execution_count": 5
        }
      ]
    },
    {
      "cell_type": "code",
      "metadata": {
        "colab": {
          "base_uri": "https://localhost:8080/",
          "height": 387
        },
        "id": "tY6QNC-_I-dL",
        "outputId": "6e5ea370-f9da-479b-efc6-e13cacdefd80"
      },
      "source": [
        "import seaborn as sb \n",
        "\n",
        "sb.lmplot(x='length', y='time', data=constant_df, ci=None)"
      ],
      "execution_count": null,
      "outputs": [
        {
          "output_type": "execute_result",
          "data": {
            "text/plain": [
              "<seaborn.axisgrid.FacetGrid at 0x7fda2b507ed0>"
            ]
          },
          "metadata": {},
          "execution_count": 6
        },
        {
          "output_type": "display_data",
          "data": {
            "image/png": "[encoded data removed]",
            "text/plain": [
              "<Figure size 360x360 with 1 Axes>"
            ]
          },
          "metadata": {
            "needs_background": "light"
          }
        }
      ]
    },
    {
      "cell_type": "markdown",
      "metadata": {
        "id": "MkcB9KqKMqob"
      },
      "source": [
        "# Important Functions\n",
        "\n",
        "- `sns.lmplot(x='n', y='time', data=dataset, ci=None)`\n",
        "  - lmplot = linear model (regression) plot\n",
        "  - ci: confidence intreval\n",
        "- `pd.DataFrame(list(zip(list1, list2, ..., list_n))`\n",
        "  - `list(zip(item1, item2 ... item_n))`\n",
        "- `time.process_time()`"
      ]
    },
    {
      "cell_type": "markdown",
      "metadata": {
        "id": "XIAaTuikKNvh"
      },
      "source": [
        "References\n",
        "\n",
        "My algorithm learning notebook following the live lesson series [**\"Data Structures, Algorithms, and Machine Learning Optimization\"**](https://learning.oreilly.com/videos/data-structures-algorithms/9780137644889/) by Dr. Jon Krohn. I adapted some and partially modified or added entirely new code. Notes largely based on and (some of them entirely) from Jon's notebooks and learning materials. The lesson and original notebook source code at:\n",
        "\n",
        "https://learning.oreilly.com/videos/data-structures-algorithms/9780137644889/\n",
        "https://github.com/jonkrohn/ML-foundations/blob/master/notebooks/7-algos-and-data-structures.ipynb"
      ]
    }
  ]
}