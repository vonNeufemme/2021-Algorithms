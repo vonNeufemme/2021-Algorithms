{
  "nbformat": 4,
  "nbformat_minor": 0,
  "metadata": {
    "colab": {
      "name": "ALGO 05 Sets and Hashing 3 Load Factor and Hash Maps",
      "provenance": [],
      "collapsed_sections": []
    },
    "kernelspec": {
      "name": "python3",
      "display_name": "Python 3"
    },
    "language_info": {
      "name": "python"
    }
  },
  "cells": [
    {
      "cell_type": "markdown",
      "metadata": {
        "id": "vPgjW2NO3nxh"
      },
      "source": [
        "## References\n",
        "\n",
        "My algorithm learning notebook following the live lesson series [**\"Data Structures, Algorithms, and Machine Learning Optimization\"**](https://learning.oreilly.com/videos/data-structures-algorithms/9780137644889/) by Dr. Jon Krohn. I adapted some and partially modified or added entirely new code. Notes largely based on and (some of them entirely) from Jon's notebooks and learning materials. The lesson and original notebook source code at:\n",
        "\n",
        "https://learning.oreilly.com/videos/data-structures-algorithms/9780137644889/\n",
        "https://github.com/jonkrohn/ML-foundations/blob/master/notebooks/7-algos-and-data-structures.ipynb"
      ]
    },
    {
      "cell_type": "markdown",
      "metadata": {
        "id": "-iQOFLLdv7Nx"
      },
      "source": [
        "# 5.5 Load Factor\n",
        "\n",
        "Metric that guides hashing decisions:\n",
        "- The size of the hash can be determined considering the number of elements that need hashing: \n",
        "\n",
        "$$ \\text{load factor} = \\frac{n_\\text{values}}{n_\\text{buckets}} $$"
      ]
    },
    {
      "cell_type": "code",
      "metadata": {
        "id": "vNPVTKW9gkXn",
        "colab": {
          "base_uri": "https://localhost:8080/",
          "height": 35
        },
        "outputId": "34b21cc8-03e0-4af9-ab30-cc9916007ba9"
      },
      "source": [
        "10/1e9"
      ],
      "execution_count": null,
      "outputs": [
        {
          "output_type": "execute_result",
          "data": {
            "text/plain": [
              "1e-08"
            ]
          },
          "metadata": {},
          "execution_count": 40
        }
      ]
    },
    {
      "cell_type": "markdown",
      "metadata": {
        "id": "1xwET467eiPO"
      },
      "source": [
        "## case 1 - values < buckets\n",
        "If we have ten values to store, but a billion buckets...\n",
        "$$ \\text{load factor} = \\frac{10}{10^9} = 10^{-8}$$\n",
        "\n",
        "...we are probably using much more memory than we need to. This is the case whenever load factor $\\approx 0$.\n"
      ]
    },
    {
      "cell_type": "markdown",
      "metadata": {
        "id": "o7oTkM85F49k"
      },
      "source": [
        "## case 2 - values = buckets\n",
        "\n",
        "On the other hand, if the load factor is approaching one, $n_\\text{values} \\approx n_\\text{buckets}$ and we may want to consider a larger hash table."
      ]
    },
    {
      "cell_type": "markdown",
      "metadata": {
        "id": "FP2IB1IGF6gm"
      },
      "source": [
        "## case 3 - values > buckets = collisions\n",
        "\n",
        "If load factor $>1$, then collisions are guaranteed and the case for a larger hash table is even stronger."
      ]
    },
    {
      "cell_type": "markdown",
      "metadata": {
        "id": "fs5JdocAG5Xi"
      },
      "source": [
        "# 5.6 Hash Maps\n",
        "\n",
        "(Excerpt)\n",
        "\n",
        "In all of the above examples, we were hashing \"values\", but these \"values\" could in fact be the *keys* of a key-value pair, allowing us to have a **hash map**.\n",
        "\n",
        "Let's say `Jane Dough` has receipt number `5551234567`, where we're using the receipt numbers as keys to look up customers. \n",
        "\n",
        "We can add this as an entry in a hash table for quick lookup later (once we have many more receipts...): "
      ]
    },
    {
      "cell_type": "code",
      "metadata": {
        "colab": {
          "base_uri": "https://localhost:8080/",
          "height": 17
        },
        "id": "OqKLxjyBA68g",
        "outputId": "16252ea3-8466-43bb-b9bd-158b3cf0a811"
      },
      "source": [
        "hash_map = {}"
      ],
      "execution_count": null,
      "outputs": [
      ]
    },
    {
      "cell_type": "code",
      "metadata": {
        "colab": {
          "base_uri": "https://localhost:8080/",
          "height": 17
        },
        "id": "QUUPBo70IMQA",
        "outputId": "c158b350-ac36-429f-f92f-c85d8794e697"
      },
      "source": [
        "def simple_hash(value):\n",
        "    return value % 10"
      ],
      "execution_count": null,
      "outputs": [
      ]
    },
    {
      "cell_type": "code",
      "metadata": {
        "colab": {
          "base_uri": "https://localhost:8080/",
          "height": 35
        },
        "id": "aEYLlqJ_ChUr",
        "outputId": "5b1ce982-c3e4-420f-8a6a-a2f38f3343e7"
      },
      "source": [
        "hash_map[simple_hash(11899918819991197253)] = (11899918819991197253, \"Paulina Gagarina\")\n",
        "hash_map"
      ],
      "execution_count": null,
      "outputs": [
        {
          "output_type": "execute_result",
          "data": {
            "text/plain": [
              "{3: (11899918819991197253, 'Paulina Gagarina')}"
            ]
          },
          "metadata": {},
          "execution_count": 42
        }
      ]
    },
    {
      "cell_type": "code",
      "metadata": {
        "colab": {
          "base_uri": "https://localhost:8080/",
          "height": 35
        },
        "id": "GPqDcTpUHyee",
        "outputId": "0074e115-81a0-4627-db62-2e61faa69d3a"
      },
      "source": [
        "hash_map[simple_hash(4562)] = (4562, \"LP\")\n",
        "hash_map"
      ],
      "execution_count": null,
      "outputs": [
        {
          "output_type": "execute_result",
          "data": {
            "text/plain": [
              "{2: (4562, 'LP'), 3: (11899918819991197253, 'Paulina Gagarina')}"
            ]
          },
          "metadata": {},
          "execution_count": 44
        }
      ]
    }
  ]
}
