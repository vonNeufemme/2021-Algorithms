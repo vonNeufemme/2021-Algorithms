{
  "nbformat": 4,
  "nbformat_minor": 0,
  "metadata": {
    "colab": {
      "name": "ALGO 05 Sets and Hasing 2 Hash Functions and Collilsions",
      "provenance": [],
      "collapsed_sections": []
    },
    "kernelspec": {
      "name": "python3",
      "display_name": "Python 3"
    },
    "language_info": {
      "name": "python"
    }
  },
  "cells": [
    {
      "cell_type": "markdown",
      "metadata": {
        "id": "vPgjW2NO3nxh"
      },
      "source": [
        "## References\n",
        "\n",
        "My algorithm learning notebook following the live lesson series [**\"Data Structures, Algorithms, and Machine Learning Optimization\"**](https://learning.oreilly.com/videos/data-structures-algorithms/9780137644889/) by Dr. Jon Krohn. I adapted some and partially modified or added entirely new code. Notes largely based on and (some of them entirely) from Jon's notebooks and learning materials. The lesson and original notebook source code at:\n",
        "\n",
        "https://learning.oreilly.com/videos/data-structures-algorithms/9780137644889/\n",
        "https://github.com/jonkrohn/ML-foundations/blob/master/notebooks/7-algos-and-data-structures.ipynb"
      ]
    },
    {
      "cell_type": "markdown",
      "metadata": {
        "id": "-iQOFLLdv7Nx"
      },
      "source": [
        "# 5.3 Hash Functions\n",
        "\n",
        "- **Hash functions** set-searches in constant time $O(1)$!!\n",
        "\n",
        "- List-based structures (or unhashed sets) are searched in linear time $O(n)$.\n",
        "- At best $O(\\text{log }n)$ with binary search of pre-sorted list.\n",
        "\n",
        "<br/>\n",
        "\n",
        "---\n",
        "\n",
        "<br/>\n",
        "\n",
        "- Regardless of the size of the set, we can access the searched key-value instsantly.\n",
        "- The trick is that ***indexed data structures*** (with ***sequential*** integers) have $O(1)$ time search/retrieval.\n",
        "- So we need to convert dictionary values into an index - which is what hash functions do:\n",
        "  - Input some value.\n",
        "  - Output a hash value. \n",
        "    - Used as indices of *hash table*.\n"
      ]
    },
    {
      "cell_type": "code",
      "metadata": {
        "id": "vNPVTKW9gkXn",
        "colab": {
          "base_uri": "https://localhost:8080/",
          "height": 17
        },
        "outputId": "18446b52-c73d-49a9-f675-c7fc11bd26dd"
      },
      "source": [
        "emergency_call = 1189998819991197253   # the easiest-to-remember emergency call, if you know what I mean...;)"
      ],
      "execution_count": null,
      "outputs": [
      ]
    },
    {
      "cell_type": "markdown",
      "metadata": {
        "id": "1xwET467eiPO"
      },
      "source": [
        "A common hash function approach is to use the modulo operator on the last few digits of the value..."
      ]
    },
    {
      "cell_type": "code",
      "metadata": {
        "colab": {
          "base_uri": "https://localhost:8080/",
          "height": 35
        },
        "id": "YAcc_vjJ3hU-",
        "outputId": "fa5f70fa-2aa0-4264-f6e8-db29416e73ad"
      },
      "source": [
        "split_value = [digit for digit in str(emergency_call)]\n",
        "print(split_value)"
      ],
      "execution_count": null,
      "outputs": [
        {
          "output_type": "stream",
          "name": "stdout",
          "text": [
            "['1', '1', '8', '9', '9', '9', '8', '8', '1', '9', '9', '9', '1', '1', '9', '7', '2', '5', '3']\n"
          ]
        }
      ]
    },
    {
      "cell_type": "code",
      "metadata": {
        "id": "6UyBk96X4pDU",
        "colab": {
          "base_uri": "https://localhost:8080/",
          "height": 35
        },
        "outputId": "68140413-9337-4173-addb-75895d34350b"
      },
      "source": [
        "end_digits = int(''.join(split_value[-2:])) # final digits typically used b/c they tend to vary more than first ones\n",
        "end_digits"
      ],
      "execution_count": null,
      "outputs": [
        {
          "output_type": "execute_result",
          "data": {
            "text/plain": [
              "53"
            ]
          },
          "metadata": {},
          "execution_count": 6
        }
      ]
    },
    {
      "cell_type": "code",
      "metadata": {
        "colab": {
          "base_uri": "https://localhost:8080/",
          "height": 35
        },
        "id": "YGUYdqtifTa7",
        "outputId": "c622a878-833f-4a7f-bed9-1c6fd3257fdb"
      },
      "source": [
        "# Divisor (10 in this case) is arbitrary. \n",
        "# You can choose any number but should be used consistently across all values to be hashed.\n",
        "hash_value = end_digits % 10\n",
        "hash_value"
      ],
      "execution_count": null,
      "outputs": [
        {
          "output_type": "execute_result",
          "data": {
            "text/plain": [
              "3"
            ]
          },
          "metadata": {},
          "execution_count": 7
        }
      ]
    },
    {
      "cell_type": "code",
      "metadata": {
        "id": "tBhdND_rfTW6",
        "colab": {
          "base_uri": "https://localhost:8080/",
          "height": 17
        },
        "outputId": "b8e1bb28-b5c0-4da7-ab0f-c4b26752fd3f"
      },
      "source": [
        "def simple_hash(value):\n",
        "    split_value = [digit for digit in str(value)]\n",
        "    last_2_digits = int(''.join(split_value[-2:]))\n",
        "    return last_2_digits % 10"
      ],
      "execution_count": null,
      "outputs": [
      ]
    },
    {
      "cell_type": "code",
      "metadata": {
        "colab": {
          "base_uri": "https://localhost:8080/",
          "height": 35
        },
        "id": "ZDOsgfQ2fTSy",
        "outputId": "277093d0-3c20-4cc2-bdb6-f5b651e9c07b"
      },
      "source": [
        "simple_hash(emergency_call)"
      ],
      "execution_count": null,
      "outputs": [
        {
          "output_type": "execute_result",
          "data": {
            "text/plain": [
              "3"
            ]
          },
          "metadata": {},
          "execution_count": 9
        }
      ]
    },
    {
      "cell_type": "code",
      "metadata": {
        "colab": {
          "base_uri": "https://localhost:8080/",
          "height": 35
        },
        "id": "QUKYRF4EgHV-",
        "outputId": "bae66470-3ff7-458b-ea49-17f880e683bc"
      },
      "source": [
        "another_emergency_call = 1189998819991197746 \n",
        "simple_hash(another_emergency_call)"
      ],
      "execution_count": null,
      "outputs": [
        {
          "output_type": "execute_result",
          "data": {
            "text/plain": [
              "6"
            ]
          },
          "metadata": {},
          "execution_count": 10
        }
      ]
    },
    {
      "cell_type": "code",
      "metadata": {
        "colab": {
          "base_uri": "https://localhost:8080/",
          "height": 520
        },
        "id": "zAFCJL_LhSVY",
        "outputId": "2e5c8e18-0499-4d6c-e362-9a7e0470d88b"
      },
      "source": [
        "hash_table = \"/content/here/MyDrive/Data and Algorithms/ALGO05/Hash table.png\"\n",
        "show_img(hash_table, resize=0.75, source=\"image from Wikipedia\", sourceScale=1)"
      ],
      "execution_count": null,
      "outputs": [
        {
          "output_type": "display_data",
          "data": {
            "image/png": "[encoded data removed]",
            "text/plain": [
              "<PIL.Image.Image image mode=RGB size=709x503 at 0x7F0D6B1F7510>"
            ]
          },
          "metadata": {}
        }
      ]
    },
    {
      "cell_type": "markdown",
      "metadata": {
        "id": "-b0fWquFgTOl"
      },
      "source": [
        "These hash values (`7` and `1`) could be used in a sequential, small-integer index, i.e., a *hash table*.\n",
        "\n",
        "- This is how we get that constant time complexity with our set data structure.\n"
      ]
    },
    {
      "cell_type": "markdown",
      "metadata": {
        "id": "IfmTTo-q8tCn"
      },
      "source": [
        "# 5.4 Collisions\n",
        "\n",
        "Major problem with `simple_hash()` function\n",
        "- Index can range at most up to 10 (if using a single digit as an index)\n",
        "- Ergo, many input values will result in collisions. "
      ]
    },
    {
      "cell_type": "code",
      "metadata": {
        "id": "UTAOWVF5gSgu",
        "colab": {
          "base_uri": "https://localhost:8080/",
          "height": 35
        },
        "outputId": "1b9bc7e5-0c29-4041-d67f-6caf613faf3c"
      },
      "source": [
        "simple_hash(47583)"
      ],
      "execution_count": null,
      "outputs": [
        {
          "output_type": "execute_result",
          "data": {
            "text/plain": [
              "3"
            ]
          },
          "metadata": {},
          "execution_count": 13
        }
      ]
    },
    {
      "cell_type": "code",
      "metadata": {
        "colab": {
          "base_uri": "https://localhost:8080/",
          "height": 35
        },
        "id": "HzvREC4a955r",
        "outputId": "664d20ad-44b2-4677-d3e8-db643f5924a0"
      },
      "source": [
        "simple_hash(7866778853)"
      ],
      "execution_count": null,
      "outputs": [
        {
          "output_type": "execute_result",
          "data": {
            "text/plain": [
              "3"
            ]
          },
          "metadata": {},
          "execution_count": 14
        }
      ]
    },
    {
      "cell_type": "markdown",
      "metadata": {
        "id": "OB-rWGAB98kK"
      },
      "source": [
        "No matter how long the input value may be, the hash will always the be last digit because the `simple_hash()` indexes the input by modulo 10. "
      ]
    },
    {
      "cell_type": "markdown",
      "metadata": {
        "id": "nCK32bhd-WxP"
      },
      "source": [
        "## Problems\n",
        "\n",
        "Major problem with the `simple_hash()` function:\n",
        "* The hash table has at most ten indices \n",
        "* Ergo, many input values will result in **collisions**, e.g.:"
      ]
    },
    {
      "cell_type": "markdown",
      "metadata": {
        "id": "kI_Y1OjN-fWV"
      },
      "source": [
        "## Solution\n",
        "(excerpt)\n",
        "\n",
        "Three common ways to resolve collisions:\n",
        "1. Change the modulus denominator (e.g., `10` --> `11`); this adds procedural (and thus time) complexity to hash algo\n",
        "2. Change the hash function entirely; ditto w.r.t. procedural complexity\n",
        "3. Store a list (or similar) at the index, e.g.:"
      ]
    },
    {
      "cell_type": "code",
      "metadata": {
        "colab": {
          "base_uri": "https://localhost:8080/",
          "height": 17
        },
        "id": "bjlI_Vfx-V8S",
        "outputId": "f418ec1a-192e-473b-81a8-781ff79f204c"
      },
      "source": [
        "hash_table = {}"
      ],
      "execution_count": null,
      "outputs": [
      ]
    },
    {
      "cell_type": "code",
      "metadata": {
        "colab": {
          "base_uri": "https://localhost:8080/",
          "height": 35
        },
        "id": "4FCKdDe6_lH-",
        "outputId": "ef94bcd0-ebaa-4da0-af30-1069fdc4fd2e"
      },
      "source": [
        "hash_table[simple_hash(555)] = [555]\n",
        "hash_table"
      ],
      "execution_count": null,
      "outputs": [
        {
          "output_type": "execute_result",
          "data": {
            "text/plain": [
              "{5: [555]}"
            ]
          },
          "metadata": {},
          "execution_count": 18
        }
      ]
    },
    {
      "cell_type": "code",
      "metadata": {
        "colab": {
          "base_uri": "https://localhost:8080/",
          "height": 35
        },
        "id": "iTqJYRHF_lDX",
        "outputId": "a32e7074-7d28-4e1c-c4b8-ceea3cbedccc"
      },
      "source": [
        "hash_table[simple_hash(125)].append(125)\n",
        "hash_table"
      ],
      "execution_count": null,
      "outputs": [
        {
          "output_type": "execute_result",
          "data": {
            "text/plain": [
              "{5: [555, 125]}"
            ]
          },
          "metadata": {},
          "execution_count": 19
        }
      ]
    },
    {
      "cell_type": "markdown",
      "metadata": {
        "id": "MnIaOVcC_5Jm"
      },
      "source": [
        "(Excerpt)\n",
        "\n",
        "Such a list is called a **bucket**. \n",
        "\n",
        "Worst case:\n",
        "* All of the values hash to the same hash value (e.g., `5`)\n",
        "* Thus, all of the values are stored in a single bucket\n",
        "* Searching through the bucket has linear O($n$) time complexity\n",
        "\n",
        "Alternatively, we can increase memory complexity instead of time complexity: \n",
        "* Use very large modulus denominator\n",
        "* Reduces probability of collisions\n",
        "* If use denominator of `1e9`, we have a hash table with a billion buckets\n",
        "\n",
        "Could also have a second hash function *inside* of the bucket (e.g., if we know we'll have a few very large buckets).\n",
        "\n",
        "There is no \"perfect hash\". It depends on the values you're working with. There are many options to consider with various trade-offs."
      ]
    },
    {
      "cell_type": "markdown",
      "metadata": {
        "id": "1qfTdwwtAgCg"
      },
      "source": [
        "#### Nested hash"
      ]
    },
    {
      "cell_type": "code",
      "metadata": {
        "colab": {
          "base_uri": "https://localhost:8080/",
          "height": 17
        },
        "id": "lzZofLJi_k-1",
        "outputId": "ce50bc49-b2a2-40da-cb30-516e69c71f75"
      },
      "source": [
        "def outer_hash(value):\n",
        "    return value % 1e9"
      ],
      "execution_count": null,
      "outputs": [
      ]
    },
    {
      "cell_type": "code",
      "metadata": {
        "colab": {
          "base_uri": "https://localhost:8080/",
          "height": 35
        },
        "id": "SebGv0SD_k5c",
        "outputId": "3ab2adbc-6f9c-41fe-c5bb-08878a73d901"
      },
      "source": [
        "outer_hash(emergency_call)"
      ],
      "execution_count": null,
      "outputs": [
        {
          "output_type": "execute_result",
          "data": {
            "text/plain": [
              "991197184.0"
            ]
          },
          "metadata": {},
          "execution_count": 25
        }
      ]
    },
    {
      "cell_type": "code",
      "metadata": {
        "colab": {
          "base_uri": "https://localhost:8080/",
          "height": 35
        },
        "id": "mt2Rgi1f_k10",
        "outputId": "419208a8-a7e9-4746-b168-bff226fbf081"
      },
      "source": [
        "outer_hash(47862199645)"
      ],
      "execution_count": null,
      "outputs": [
        {
          "output_type": "execute_result",
          "data": {
            "text/plain": [
              "862199645.0"
            ]
          },
          "metadata": {},
          "execution_count": 26
        }
      ]
    },
    {
      "cell_type": "code",
      "metadata": {
        "colab": {
          "base_uri": "https://localhost:8080/",
          "height": 17
        },
        "id": "Pmf_hYu3A7YL",
        "outputId": "b6c85741-e949-4bf7-dac7-88446305ad98"
      },
      "source": [
        "nested_hash_table = {}"
      ],
      "execution_count": null,
      "outputs": [
      ]
    },
    {
      "cell_type": "code",
      "metadata": {
        "colab": {
          "base_uri": "https://localhost:8080/",
          "height": 35
        },
        "id": "BJej9Py4A7UC",
        "outputId": "587afea4-da41-4d9b-8970-9bb4222ed1fa"
      },
      "source": [
        "nested_hash_table[outer_hash(emergency_call)] = [emergency_call]\n",
        "nested_hash_table"
      ],
      "execution_count": null,
      "outputs": [
        {
          "output_type": "execute_result",
          "data": {
            "text/plain": [
              "{991197184.0: [1189998819991197253]}"
            ]
          },
          "metadata": {},
          "execution_count": 28
        }
      ]
    },
    {
      "cell_type": "code",
      "metadata": {
        "colab": {
          "base_uri": "https://localhost:8080/",
          "height": 17
        },
        "id": "tfpXFmy5A7QV",
        "outputId": "8e466d5c-7b00-4021-8435-85ce2346fa44"
      },
      "source": [
        "nested_hash_table[outer_hash(emergency_call)].append(5)\n",
        "nested_hash_table[outer_hash(emergency_call)].append(12)\n",
        "nested_hash_table[outer_hash(emergency_call)].append(752)"
      ],
      "execution_count": null,
      "outputs": [
      ]
    },
    {
      "cell_type": "code",
      "metadata": {
        "colab": {
          "base_uri": "https://localhost:8080/",
          "height": 35
        },
        "id": "dgnFpH_TA7MV",
        "outputId": "4c7cde5b-ab9a-426f-f940-13ee51ff5cc6"
      },
      "source": [
        "nested_hash_table"
      ],
      "execution_count": null,
      "outputs": [
        {
          "output_type": "execute_result",
          "data": {
            "text/plain": [
              "{991197184.0: [1189998819991197253, 5, 5, 12, 752]}"
            ]
          },
          "metadata": {},
          "execution_count": 31
        }
      ]
    },
    {
      "cell_type": "code",
      "metadata": {
        "colab": {
          "base_uri": "https://localhost:8080/",
          "height": 17
        },
        "id": "MfIHuuP0A7Im",
        "outputId": "2dee4d7e-65f9-494c-b336-8869626a9d2b"
      },
      "source": [
        "def inner_hash(value):\n",
        "    return value % 10"
      ],
      "execution_count": null,
      "outputs": [
      ]
    },
    {
      "cell_type": "code",
      "metadata": {
        "colab": {
          "base_uri": "https://localhost:8080/",
          "height": 17
        },
        "id": "zt44KR7JA7E0",
        "outputId": "f0ef56d3-d126-499c-f7ad-535753320b35"
      },
      "source": [
        "n = len(nested_hash_table[991197184.0])\n",
        "nested_list = nested_hash_table[991197184.0]\n",
        "\n",
        "for i in range(n):\n",
        "    nested_list[i] = {inner_hash(nested_list[i]): nested_list[i]}"
      ],
      "execution_count": null,
      "outputs": [
      ]
    },
    {
      "cell_type": "code",
      "metadata": {
        "colab": {
          "base_uri": "https://localhost:8080/",
          "height": 35
        },
        "id": "BNYwlvirA7Ab",
        "outputId": "94fdb03e-d908-4d6c-ce8a-a27b73685447"
      },
      "source": [
        "nested_hash_table"
      ],
      "execution_count": null,
      "outputs": [
        {
          "output_type": "execute_result",
          "data": {
            "text/plain": [
              "{991197184.0: [{3: 1189998819991197253}, {5: 5}, {5: 5}, {2: 12}, {2: 752}]}"
            ]
          },
          "metadata": {},
          "execution_count": 39
        }
      ]
    }
  ]
}
