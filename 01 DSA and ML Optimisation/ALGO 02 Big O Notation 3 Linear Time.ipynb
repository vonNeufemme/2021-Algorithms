{
  "nbformat": 4,
  "nbformat_minor": 0,
  "metadata": {
    "colab": {
      "name": "ALGO 02 Big O Notation 3 Linear Time.ipynb",
      "provenance": [],
      "collapsed_sections": []
    },
    "kernelspec": {
      "name": "python3",
      "display_name": "Python 3"
    },
    "language_info": {
      "name": "python"
    }
  },
  "cells": [
    {
      "cell_type": "markdown",
      "metadata": {
        "id": "WyQZW53vXCtS"
      },
      "source": [
        "# 2.3 Linear Time\n",
        "\n",
        "However, finding the minimal value in an unordered array is not a constant time operation as scanning over each element in the array is needed in order to determine the minimal value. Hence it is a linear time operation, taking O(n) time. If the number of elements is known in advance and does not change, however, such an algorithm can still be said to run in constant time."
      ]
    },
    {
      "cell_type": "code",
      "metadata": {
        "id": "cJ-8NUSsiMIf"
      },
      "source": [
        "def find_max(unordered_list):\n",
        "    max_value = unordered_list[0]\n",
        "\n",
        "    for i in range(len(unordered_list)):\n",
        "        if unordered_list[i] > max_value:\n",
        "            max_value = unordered_list[i]\n",
        "    return max_value"
      ],
      "execution_count": null,
      "outputs": []
    },
    {
      "cell_type": "code",
      "metadata": {
        "id": "Cch367KBi7-0"
      },
      "source": [
        "def timer(func, x):\n",
        "    start_time = time.process_time()\n",
        "    item = func(x)\n",
        "    end_time = time.process_time()\n",
        "    print(f'for a list of {len(x)} items: {end_time - start_time} seconds')\n",
        "    return item"
      ],
      "execution_count": null,
      "outputs": []
    },
    {
      "cell_type": "code",
      "metadata": {
        "colab": {
          "base_uri": "https://localhost:8080/"
        },
        "id": "n1wboF3CjGkF",
        "outputId": "e221b1c2-459e-4cc2-b281-468ac346162b"
      },
      "source": [
        "timer(find_max, short_list)\n",
        "timer(find_max, long_list)"
      ],
      "execution_count": null,
      "outputs": [
        {
          "output_type": "stream",
          "name": "stdout",
          "text": [
            "for a list of 3 items: 9.074999979929999e-06 seconds\n",
            "for a list of 100000000 items: 7.474326055999995 seconds\n"
          ]
        },
        {
          "output_type": "execute_result",
          "data": {
            "text/plain": [
              "42"
            ]
          },
          "metadata": {},
          "execution_count": 58
        }
      ]
    },
    {
      "cell_type": "code",
      "metadata": {
        "id": "JhK41drZL8dT"
      },
      "source": [
        "for length in list_lengths:\n",
        "    start = time.process_time()\n",
        "    random_list = [np.random.randint(1, 100) for random_integer in range(length)]\n",
        "    end = time.process_time()\n",
        "    print('runtime for generating a list of {:,} elements: {} seconds'.format(length, (end-start)))    \n",
        "    \n",
        "    start = time.process_time()\n",
        "    find_max(random_list)\n",
        "    end = time.process_time()\n",
        "    poly_times.append(end - start)\n",
        "    print('runtime for double for loop multiplication of {:,} items: {} seconds\\n'.format(length, (end-start)))"
      ],
      "execution_count": null,
      "outputs": []
    },
    {
      "cell_type": "code",
      "metadata": {
        "colab": {
          "base_uri": "https://localhost:8080/",
          "height": 17
        },
        "id": "OIhBgNYkz5ap",
        "outputId": "d562d25e-fb47-4da8-8d63-2e67a2b7f9a5"
      },
      "source": [
        "linear = pd.read_csv(\"/content/here/MyDrive/Data and Algorithms/ALGO02/linear_no_tpu.csv\")\n",
        "linear_tpu = pd.read_csv(\"/content/here/MyDrive/Data and Algorithms/ALGO02/linear_tpu.csv\")"
      ],
      "execution_count": null,
      "outputs": [
      ]
    },
    {
      "cell_type": "code",
      "metadata": {
        "colab": {
          "base_uri": "https://localhost:8080/",
          "height": 299
        },
        "id": "x8EkPTUl3C7z",
        "outputId": "e1b942a5-44d8-4966-a8b2-a4c74892b1e6"
      },
      "source": [
        "linear"
      ],
      "execution_count": null,
      "outputs": [
        {
          "output_type": "execute_result",
          "data": {
            "text/html": [
              "<div>\n",
              "<style scoped>\n",
              "    .dataframe tbody tr th:only-of-type {\n",
              "        vertical-align: middle;\n",
              "    }\n",
              "\n",
              "    .dataframe tbody tr th {\n",
              "        vertical-align: top;\n",
              "    }\n",
              "\n",
              "    .dataframe thead th {\n",
              "        text-align: right;\n",
              "    }\n",
              "</style>\n",
              "<table border=\"1\" class=\"dataframe\">\n",
              "  <thead>\n",
              "    <tr style=\"text-align: right;\">\n",
              "      <th></th>\n",
              "      <th>Unnamed: 0</th>\n",
              "      <th>length</th>\n",
              "      <th>time: generate list</th>\n",
              "      <th>time: find max value</th>\n",
              "    </tr>\n",
              "  </thead>\n",
              "  <tbody>\n",
              "    <tr>\n",
              "      <th>0</th>\n",
              "      <td>0</td>\n",
              "      <td>10</td>\n",
              "      <td>0.017708</td>\n",
              "      <td>0.000007</td>\n",
              "    </tr>\n",
              "    <tr>\n",
              "      <th>1</th>\n",
              "      <td>1</td>\n",
              "      <td>100</td>\n",
              "      <td>0.000402</td>\n",
              "      <td>0.000010</td>\n",
              "    </tr>\n",
              "    <tr>\n",
              "      <th>2</th>\n",
              "      <td>2</td>\n",
              "      <td>1000</td>\n",
              "      <td>0.003546</td>\n",
              "      <td>0.000116</td>\n",
              "    </tr>\n",
              "    <tr>\n",
              "      <th>3</th>\n",
              "      <td>3</td>\n",
              "      <td>10000</td>\n",
              "      <td>0.037959</td>\n",
              "      <td>0.000811</td>\n",
              "    </tr>\n",
              "    <tr>\n",
              "      <th>4</th>\n",
              "      <td>4</td>\n",
              "      <td>100000</td>\n",
              "      <td>0.368323</td>\n",
              "      <td>0.008086</td>\n",
              "    </tr>\n",
              "    <tr>\n",
              "      <th>5</th>\n",
              "      <td>5</td>\n",
              "      <td>1000000</td>\n",
              "      <td>3.653948</td>\n",
              "      <td>0.071954</td>\n",
              "    </tr>\n",
              "    <tr>\n",
              "      <th>6</th>\n",
              "      <td>6</td>\n",
              "      <td>10000000</td>\n",
              "      <td>36.630399</td>\n",
              "      <td>0.744800</td>\n",
              "    </tr>\n",
              "    <tr>\n",
              "      <th>7</th>\n",
              "      <td>7</td>\n",
              "      <td>100000000</td>\n",
              "      <td>365.808811</td>\n",
              "      <td>7.398579</td>\n",
              "    </tr>\n",
              "  </tbody>\n",
              "</table>\n",
              "</div>"
            ],
            "text/plain": [
              "   Unnamed: 0     length  time: generate list  time: find max value\n",
              "0           0         10             0.017708              0.000007\n",
              "1           1        100             0.000402              0.000010\n",
              "2           2       1000             0.003546              0.000116\n",
              "3           3      10000             0.037959              0.000811\n",
              "4           4     100000             0.368323              0.008086\n",
              "5           5    1000000             3.653948              0.071954\n",
              "6           6   10000000            36.630399              0.744800\n",
              "7           7  100000000           365.808811              7.398579"
            ]
          },
          "metadata": {},
          "execution_count": 78
        }
      ]
    },
    {
      "cell_type": "code",
      "metadata": {
        "colab": {
          "base_uri": "https://localhost:8080/",
          "height": 299
        },
        "id": "QJA8iI6p0CPp",
        "outputId": "708ffb9f-c3a4-4d34-dbc3-06d58767a572"
      },
      "source": [
        "linear_tpu"
      ],
      "execution_count": null,
      "outputs": [
        {
          "output_type": "execute_result",
          "data": {
            "text/html": [
              "<div>\n",
              "<style scoped>\n",
              "    .dataframe tbody tr th:only-of-type {\n",
              "        vertical-align: middle;\n",
              "    }\n",
              "\n",
              "    .dataframe tbody tr th {\n",
              "        vertical-align: top;\n",
              "    }\n",
              "\n",
              "    .dataframe thead th {\n",
              "        text-align: right;\n",
              "    }\n",
              "</style>\n",
              "<table border=\"1\" class=\"dataframe\">\n",
              "  <thead>\n",
              "    <tr style=\"text-align: right;\">\n",
              "      <th></th>\n",
              "      <th>Unnamed: 0</th>\n",
              "      <th>length</th>\n",
              "      <th>time: generate list</th>\n",
              "      <th>time: find max value</th>\n",
              "    </tr>\n",
              "  </thead>\n",
              "  <tbody>\n",
              "    <tr>\n",
              "      <th>0</th>\n",
              "      <td>0</td>\n",
              "      <td>10</td>\n",
              "      <td>0.000355</td>\n",
              "      <td>0.000030</td>\n",
              "    </tr>\n",
              "    <tr>\n",
              "      <th>1</th>\n",
              "      <td>1</td>\n",
              "      <td>100</td>\n",
              "      <td>0.000924</td>\n",
              "      <td>0.000017</td>\n",
              "    </tr>\n",
              "    <tr>\n",
              "      <th>2</th>\n",
              "      <td>2</td>\n",
              "      <td>1000</td>\n",
              "      <td>0.004228</td>\n",
              "      <td>0.000097</td>\n",
              "    </tr>\n",
              "    <tr>\n",
              "      <th>3</th>\n",
              "      <td>3</td>\n",
              "      <td>10000</td>\n",
              "      <td>0.032396</td>\n",
              "      <td>0.000683</td>\n",
              "    </tr>\n",
              "    <tr>\n",
              "      <th>4</th>\n",
              "      <td>4</td>\n",
              "      <td>100000</td>\n",
              "      <td>0.308433</td>\n",
              "      <td>0.006918</td>\n",
              "    </tr>\n",
              "    <tr>\n",
              "      <th>5</th>\n",
              "      <td>5</td>\n",
              "      <td>1000000</td>\n",
              "      <td>2.994776</td>\n",
              "      <td>0.071781</td>\n",
              "    </tr>\n",
              "    <tr>\n",
              "      <th>6</th>\n",
              "      <td>6</td>\n",
              "      <td>10000000</td>\n",
              "      <td>30.203701</td>\n",
              "      <td>0.686904</td>\n",
              "    </tr>\n",
              "    <tr>\n",
              "      <th>7</th>\n",
              "      <td>7</td>\n",
              "      <td>100000000</td>\n",
              "      <td>304.109104</td>\n",
              "      <td>7.057238</td>\n",
              "    </tr>\n",
              "  </tbody>\n",
              "</table>\n",
              "</div>"
            ],
            "text/plain": [
              "   Unnamed: 0     length  time: generate list  time: find max value\n",
              "0           0         10             0.000355              0.000030\n",
              "1           1        100             0.000924              0.000017\n",
              "2           2       1000             0.004228              0.000097\n",
              "3           3      10000             0.032396              0.000683\n",
              "4           4     100000             0.308433              0.006918\n",
              "5           5    1000000             2.994776              0.071781\n",
              "6           6   10000000            30.203701              0.686904\n",
              "7           7  100000000           304.109104              7.057238"
            ]
          },
          "metadata": {},
          "execution_count": 77
        }
      ]
    },
    {
      "cell_type": "code",
      "metadata": {
        "colab": {
          "base_uri": "https://localhost:8080/",
          "height": 17
        },
        "id": "i3yr7TiX0Mlu",
        "outputId": "5706898f-d971-4351-90a3-28eb53bc660e"
      },
      "source": [
        "generate_list = linear['time: generate list'].to_numpy()\n",
        "generate_list_tpu = linear_tpu['time: generate list'].to_numpy()\n",
        "\n",
        "find_max = linear['time: find max value'].to_numpy()\n",
        "find_max_tpu = linear_tpu['time: find max value'].to_numpy()"
      ],
      "execution_count": null,
      "outputs": [
      ]
    },
    {
      "cell_type": "code",
      "metadata": {
        "colab": {
          "base_uri": "https://localhost:8080/",
          "height": 457
        },
        "id": "LFMdm5XJ0Fv2",
        "outputId": "5ac3c508-eb9b-48e5-df46-77b206dc7910"
      },
      "source": [
        "fig, ax = plt.subplots(1, 2, figsize=(15, 6))\n",
        "\n",
        "param = ['salmon', 'standard', 'darkred', 'TPU/High RAM']\n",
        "\n",
        "for i in range(2):\n",
        "    ax[i].plot(list_lengths, generate_list, c=param[0], label=param[1], linewidth=3)\n",
        "    ax[i].plot(list_lengths, generate_list_tpu, c=param[2], label=param[3], linewidth=3)\n",
        "    ax[i].legend()\n",
        "ax[0].set_title(\"Time taken for generating list\", fontsize=15)\n",
        "ax[1].set_title(\"Time taken for finding max value\", fontsize=15)\n",
        "plt.suptitle(\"Linear Time Comparison\", fontsize=25, fontweight='bold', y=1)"
      ],
      "execution_count": null,
      "outputs": [
        {
          "output_type": "execute_result",
          "data": {
            "text/plain": [
              "Text(0.5, 1, 'Linear Time Comparison')"
            ]
          },
          "metadata": {},
          "execution_count": 76
        },
        {
          "output_type": "display_data",
          "data": {
            "image/png": "[encoded data removed]",
            "text/plain": [
              "<Figure size 1080x432 with 2 Axes>"
            ]
          },
          "metadata": {
            "needs_background": "light"
          }
        }
      ]
    },
    {
      "cell_type": "markdown",
      "metadata": {
        "id": "njV6tN7TMuY0"
      },
      "source": [
        "# Important Functions\n",
        "\n",
        "- `sns.lmplot(x='n', y='time', data=dataset, ci=None)`\n",
        "  - lmplot = linear model (regression) plot\n",
        "  - ci: confidence intreval\n",
        "- `pd.DataFrame(list(zip(list1, list2, ..., list_n))`\n",
        "  - `list(zip(item1, item2 ... item_n))`\n",
        "- `time.process_time()`"
      ]
    },
    {
      "cell_type": "markdown",
      "metadata": {
        "id": "Fbf6U6eMKoY-"
      },
      "source": [
        "References\n",
        "\n",
        "My algorithm learning notebook following the live lesson series [**\"Data Structures, Algorithms, and Machine Learning Optimization\"**](https://learning.oreilly.com/videos/data-structures-algorithms/9780137644889/) by Dr. Jon Krohn. I adapted some and partially modified or added entirely new code. Notes largely based on and (some of them entirely) from Jon's notebooks and learning materials. The lesson and original notebook source code at:\n",
        "\n",
        "https://learning.oreilly.com/videos/data-structures-algorithms/9780137644889/\n",
        "https://github.com/jonkrohn/ML-foundations/blob/master/notebooks/7-algos-and-data-structures.ipynb"
      ]
    }
  ]
}
